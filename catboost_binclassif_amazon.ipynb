{
 "cells": [
  {
   "cell_type": "markdown",
   "id": "ae3e705c",
   "metadata": {},
   "source": [
    "# Intro"
   ]
  },
  {
   "cell_type": "code",
   "execution_count": 116,
   "id": "77d0beb5",
   "metadata": {},
   "outputs": [],
   "source": [
    "import os\n",
    "\n",
    "import numpy as np\n",
    "import pandas as pd\n",
    "import seaborn as sns\n",
    "import matplotlib.pyplot as plt\n",
    "\n",
    "from ydata_profiling import ProfileReport\n",
    "\n",
    "from sklearn import metrics\n",
    "from scipy import stats\n",
    "from scipy.stats import norm\n",
    "\n",
    "import catboost\n",
    "\n",
    "%matplotlib inline\n",
    "\n",
    "pd.set_option('display.max_colwidth', None)\n",
    "pd.set_option('display.float_format', '{:.3f}'.format)\n",
    "\n",
    "RANDOM_STATE = 42\n",
    "TEST_SIZE = 0.25\n",
    "N_THREADS = 4\n",
    "N_FOLDS = 5\n",
    "CV = 5\n",
    "TIMEOUT = 300\n",
    "\n",
    "import warnings\n",
    "\n",
    "warnings.filterwarnings(\"ignore\")"
   ]
  },
  {
   "cell_type": "markdown",
   "id": "3827446e",
   "metadata": {},
   "source": [
    "# Get DF"
   ]
  },
  {
   "cell_type": "code",
   "execution_count": 2,
   "id": "05c88dd5",
   "metadata": {},
   "outputs": [
    {
     "data": {
      "text/html": [
       "<div>\n",
       "<style scoped>\n",
       "    .dataframe tbody tr th:only-of-type {\n",
       "        vertical-align: middle;\n",
       "    }\n",
       "\n",
       "    .dataframe tbody tr th {\n",
       "        vertical-align: top;\n",
       "    }\n",
       "\n",
       "    .dataframe thead th {\n",
       "        text-align: right;\n",
       "    }\n",
       "</style>\n",
       "<table border=\"1\" class=\"dataframe\">\n",
       "  <thead>\n",
       "    <tr style=\"text-align: right;\">\n",
       "      <th></th>\n",
       "      <th>ACTION</th>\n",
       "      <th>RESOURCE</th>\n",
       "      <th>MGR_ID</th>\n",
       "      <th>ROLE_ROLLUP_1</th>\n",
       "      <th>ROLE_ROLLUP_2</th>\n",
       "      <th>ROLE_DEPTNAME</th>\n",
       "      <th>ROLE_TITLE</th>\n",
       "      <th>ROLE_FAMILY_DESC</th>\n",
       "      <th>ROLE_FAMILY</th>\n",
       "      <th>ROLE_CODE</th>\n",
       "    </tr>\n",
       "  </thead>\n",
       "  <tbody>\n",
       "    <tr>\n",
       "      <th>0</th>\n",
       "      <td>1</td>\n",
       "      <td>39353</td>\n",
       "      <td>85475</td>\n",
       "      <td>117961</td>\n",
       "      <td>118300</td>\n",
       "      <td>123472</td>\n",
       "      <td>117905</td>\n",
       "      <td>117906</td>\n",
       "      <td>290919</td>\n",
       "      <td>117908</td>\n",
       "    </tr>\n",
       "    <tr>\n",
       "      <th>1</th>\n",
       "      <td>1</td>\n",
       "      <td>17183</td>\n",
       "      <td>1540</td>\n",
       "      <td>117961</td>\n",
       "      <td>118343</td>\n",
       "      <td>123125</td>\n",
       "      <td>118536</td>\n",
       "      <td>118536</td>\n",
       "      <td>308574</td>\n",
       "      <td>118539</td>\n",
       "    </tr>\n",
       "    <tr>\n",
       "      <th>2</th>\n",
       "      <td>1</td>\n",
       "      <td>36724</td>\n",
       "      <td>14457</td>\n",
       "      <td>118219</td>\n",
       "      <td>118220</td>\n",
       "      <td>117884</td>\n",
       "      <td>117879</td>\n",
       "      <td>267952</td>\n",
       "      <td>19721</td>\n",
       "      <td>117880</td>\n",
       "    </tr>\n",
       "    <tr>\n",
       "      <th>3</th>\n",
       "      <td>1</td>\n",
       "      <td>36135</td>\n",
       "      <td>5396</td>\n",
       "      <td>117961</td>\n",
       "      <td>118343</td>\n",
       "      <td>119993</td>\n",
       "      <td>118321</td>\n",
       "      <td>240983</td>\n",
       "      <td>290919</td>\n",
       "      <td>118322</td>\n",
       "    </tr>\n",
       "    <tr>\n",
       "      <th>4</th>\n",
       "      <td>1</td>\n",
       "      <td>42680</td>\n",
       "      <td>5905</td>\n",
       "      <td>117929</td>\n",
       "      <td>117930</td>\n",
       "      <td>119569</td>\n",
       "      <td>119323</td>\n",
       "      <td>123932</td>\n",
       "      <td>19793</td>\n",
       "      <td>119325</td>\n",
       "    </tr>\n",
       "  </tbody>\n",
       "</table>\n",
       "</div>"
      ],
      "text/plain": [
       "   ACTION  RESOURCE  MGR_ID  ROLE_ROLLUP_1  ROLE_ROLLUP_2  ROLE_DEPTNAME  \\\n",
       "0       1     39353   85475         117961         118300         123472   \n",
       "1       1     17183    1540         117961         118343         123125   \n",
       "2       1     36724   14457         118219         118220         117884   \n",
       "3       1     36135    5396         117961         118343         119993   \n",
       "4       1     42680    5905         117929         117930         119569   \n",
       "\n",
       "   ROLE_TITLE  ROLE_FAMILY_DESC  ROLE_FAMILY  ROLE_CODE  \n",
       "0      117905            117906       290919     117908  \n",
       "1      118536            118536       308574     118539  \n",
       "2      117879            267952        19721     117880  \n",
       "3      118321            240983       290919     118322  \n",
       "4      119323            123932        19793     119325  "
      ]
     },
     "execution_count": 2,
     "metadata": {},
     "output_type": "execute_result"
    }
   ],
   "source": [
    "from catboost.datasets import amazon\n",
    "(df_train, df_test) = amazon()\n",
    "df_train[:5]"
   ]
  },
  {
   "cell_type": "code",
   "execution_count": 3,
   "id": "bd6035d8",
   "metadata": {
    "scrolled": true
   },
   "outputs": [],
   "source": [
    "# change dtypes\n",
    "cat_cols = [\n",
    "    'RESOURCE', 'MGR_ID', 'ROLE_ROLLUP_1', 'ROLE_ROLLUP_2', 'ROLE_DEPTNAME',\n",
    "    'ROLE_TITLE', 'ROLE_FAMILY_DESC', 'ROLE_FAMILY', 'ROLE_CODE'\n",
    "]\n",
    "\n",
    "df_train[cat_cols] = df_train[cat_cols].astype('category')\n",
    "df_test[cat_cols] = df_test[cat_cols].astype('category')"
   ]
  },
  {
   "cell_type": "markdown",
   "id": "bebac0b4",
   "metadata": {},
   "source": [
    "# Exploring data"
   ]
  },
  {
   "cell_type": "code",
   "execution_count": 4,
   "id": "9e3c5693",
   "metadata": {},
   "outputs": [
    {
     "name": "stdout",
     "output_type": "stream",
     "text": [
      "<class 'pandas.core.frame.DataFrame'>\n",
      "RangeIndex: 32769 entries, 0 to 32768\n",
      "Data columns (total 10 columns):\n",
      " #   Column            Non-Null Count  Dtype   \n",
      "---  ------            --------------  -----   \n",
      " 0   ACTION            32769 non-null  int64   \n",
      " 1   RESOURCE          32769 non-null  category\n",
      " 2   MGR_ID            32769 non-null  category\n",
      " 3   ROLE_ROLLUP_1     32769 non-null  category\n",
      " 4   ROLE_ROLLUP_2     32769 non-null  category\n",
      " 5   ROLE_DEPTNAME     32769 non-null  category\n",
      " 6   ROLE_TITLE        32769 non-null  category\n",
      " 7   ROLE_FAMILY_DESC  32769 non-null  category\n",
      " 8   ROLE_FAMILY       32769 non-null  category\n",
      " 9   ROLE_CODE         32769 non-null  category\n",
      "dtypes: category(9), int64(1)\n",
      "memory usage: 1.4 MB\n",
      "None\n"
     ]
    },
    {
     "data": {
      "text/html": [
       "<div>\n",
       "<style scoped>\n",
       "    .dataframe tbody tr th:only-of-type {\n",
       "        vertical-align: middle;\n",
       "    }\n",
       "\n",
       "    .dataframe tbody tr th {\n",
       "        vertical-align: top;\n",
       "    }\n",
       "\n",
       "    .dataframe thead th {\n",
       "        text-align: right;\n",
       "    }\n",
       "</style>\n",
       "<table border=\"1\" class=\"dataframe\">\n",
       "  <thead>\n",
       "    <tr style=\"text-align: right;\">\n",
       "      <th></th>\n",
       "      <th>ACTION</th>\n",
       "    </tr>\n",
       "  </thead>\n",
       "  <tbody>\n",
       "    <tr>\n",
       "      <th>count</th>\n",
       "      <td>32769.000</td>\n",
       "    </tr>\n",
       "    <tr>\n",
       "      <th>mean</th>\n",
       "      <td>0.942</td>\n",
       "    </tr>\n",
       "    <tr>\n",
       "      <th>std</th>\n",
       "      <td>0.234</td>\n",
       "    </tr>\n",
       "    <tr>\n",
       "      <th>min</th>\n",
       "      <td>0.000</td>\n",
       "    </tr>\n",
       "    <tr>\n",
       "      <th>25%</th>\n",
       "      <td>1.000</td>\n",
       "    </tr>\n",
       "    <tr>\n",
       "      <th>50%</th>\n",
       "      <td>1.000</td>\n",
       "    </tr>\n",
       "    <tr>\n",
       "      <th>75%</th>\n",
       "      <td>1.000</td>\n",
       "    </tr>\n",
       "    <tr>\n",
       "      <th>max</th>\n",
       "      <td>1.000</td>\n",
       "    </tr>\n",
       "  </tbody>\n",
       "</table>\n",
       "</div>"
      ],
      "text/plain": [
       "         ACTION\n",
       "count 32769.000\n",
       "mean      0.942\n",
       "std       0.234\n",
       "min       0.000\n",
       "25%       1.000\n",
       "50%       1.000\n",
       "75%       1.000\n",
       "max       1.000"
      ]
     },
     "execution_count": 4,
     "metadata": {},
     "output_type": "execute_result"
    }
   ],
   "source": [
    "print(df_train.info())\n",
    "df_train.describe()"
   ]
  },
  {
   "cell_type": "code",
   "execution_count": 5,
   "id": "aa864bdc",
   "metadata": {
    "scrolled": false
   },
   "outputs": [],
   "source": [
    "# # fast EDA\n",
    "# profile = ProfileReport(df_train, title=\"Profiling Report\")\n",
    "# profile"
   ]
  },
  {
   "cell_type": "markdown",
   "id": "fad38256",
   "metadata": {},
   "source": [
    "# Exploring the data"
   ]
  },
  {
   "cell_type": "code",
   "execution_count": 6,
   "id": "665abe59",
   "metadata": {},
   "outputs": [],
   "source": [
    "# columns to drop\n",
    "uniformative_cols = ['ROLE_FAMILY_DESC', 'ROLE_CODE']\n",
    "\n",
    "df_train = df_train.drop(uniformative_cols, axis=1)\n",
    "df_test = df_test.drop(uniformative_cols, axis=1)"
   ]
  },
  {
   "cell_type": "code",
   "execution_count": 7,
   "id": "2e44e5da",
   "metadata": {},
   "outputs": [],
   "source": [
    "# train/test split\n",
    "y = df_train['ACTION']\n",
    "X = df_train.drop(['ACTION'], axis=1)"
   ]
  },
  {
   "cell_type": "code",
   "execution_count": 8,
   "id": "aaa37502",
   "metadata": {},
   "outputs": [],
   "source": [
    "cat_features = X.select_dtypes('category').columns.tolist()"
   ]
  },
  {
   "cell_type": "markdown",
   "id": "dccf875f",
   "metadata": {},
   "source": [
    "# Split data into train and validation"
   ]
  },
  {
   "cell_type": "code",
   "execution_count": 9,
   "id": "ac811868",
   "metadata": {},
   "outputs": [],
   "source": [
    "# Import for classification problems\n",
    "from sklearn.metrics import (accuracy_score, precision_score, recall_score,\n",
    "                             f1_score, roc_auc_score, confusion_matrix,\n",
    "                             classification_report, precision_recall_curve,\n",
    "                             auc, roc_curve, recall_score)\n",
    "\n",
    "from catboost import CatBoost, CatBoostClassifier, CatBoostRegressor, Pool\n",
    "from sklearn.model_selection import train_test_split"
   ]
  },
  {
   "cell_type": "code",
   "execution_count": 10,
   "id": "091f640a",
   "metadata": {},
   "outputs": [
    {
     "name": "stdout",
     "output_type": "stream",
     "text": [
      "(26215, 7)\n",
      "(6554, 7)\n"
     ]
    }
   ],
   "source": [
    "X_train, X_val, y_train, y_val = train_test_split(X,\n",
    "                                                  y,\n",
    "                                                  train_size=0.8,\n",
    "                                                  random_state=RANDOM_STATE)\n",
    "\n",
    "print(X_train.shape)\n",
    "print(X_val.shape)"
   ]
  },
  {
   "cell_type": "markdown",
   "id": "29632af8",
   "metadata": {},
   "source": [
    "# Modeling"
   ]
  },
  {
   "cell_type": "markdown",
   "id": "ed288a64",
   "metadata": {},
   "source": [
    "loss_function:\n",
    "- **Logloss** for binary\n",
    "- **CrossEntropy** for probabilities in target"
   ]
  },
  {
   "cell_type": "markdown",
   "id": "2201f1ec",
   "metadata": {},
   "source": [
    "## Basic"
   ]
  },
  {
   "cell_type": "code",
   "execution_count": 11,
   "id": "26921b75",
   "metadata": {
    "scrolled": false
   },
   "outputs": [
    {
     "name": "stdout",
     "output_type": "stream",
     "text": [
      "Learning rate set to 0.181807\n",
      "0:\tlearn: 0.5035093\ttotal: 184ms\tremaining: 36.6s\n",
      "50:\tlearn: 0.1555438\ttotal: 3.5s\tremaining: 10.2s\n",
      "100:\tlearn: 0.1461173\ttotal: 7.04s\tremaining: 6.9s\n",
      "150:\tlearn: 0.1381416\ttotal: 10.6s\tremaining: 3.43s\n",
      "199:\tlearn: 0.1322675\ttotal: 14s\tremaining: 0us\n"
     ]
    },
    {
     "data": {
      "text/plain": [
       "<catboost.core.CatBoostClassifier at 0x2970ce18100>"
      ]
     },
     "execution_count": 11,
     "metadata": {},
     "output_type": "execute_result"
    }
   ],
   "source": [
    "clf = CatBoostClassifier(iterations=200, random_seed=RANDOM_STATE)\n",
    "clf.fit(X_train, y_train, cat_features=cat_features, verbose=50)"
   ]
  },
  {
   "cell_type": "code",
   "execution_count": 12,
   "id": "67e42817",
   "metadata": {},
   "outputs": [
    {
     "data": {
      "text/plain": [
       "array([[0.01163288, 0.98836712],\n",
       "       [0.00637887, 0.99362113],\n",
       "       [0.26710615, 0.73289385],\n",
       "       ...,\n",
       "       [0.0032544 , 0.9967456 ],\n",
       "       [0.01491893, 0.98508107],\n",
       "       [0.02654743, 0.97345257]])"
      ]
     },
     "execution_count": 12,
     "metadata": {},
     "output_type": "execute_result"
    }
   ],
   "source": [
    "y_pred = clf.predict_proba(X_train)\n",
    "y_pred"
   ]
  },
  {
   "cell_type": "markdown",
   "id": "57743d91",
   "metadata": {},
   "source": [
    "## Stdout of the training"
   ]
  },
  {
   "cell_type": "code",
   "execution_count": 13,
   "id": "7432aa85",
   "metadata": {
    "scrolled": false
   },
   "outputs": [
    {
     "name": "stdout",
     "output_type": "stream",
     "text": [
      "0:\tlearn: 0.5323045\ttest: 0.5321613\tbest: 0.5321613 (0)\ttotal: 41.2ms\tremaining: 8.2s\n",
      "50:\tlearn: 0.1567473\ttest: 0.1393827\tbest: 0.1393827 (50)\ttotal: 3.53s\tremaining: 10.3s\n",
      "100:\tlearn: 0.1485654\ttest: 0.1373369\tbest: 0.1372843 (94)\ttotal: 7.23s\tremaining: 7.08s\n",
      "150:\tlearn: 0.1418426\ttest: 0.1373629\tbest: 0.1371569 (136)\ttotal: 10.9s\tremaining: 3.54s\n",
      "199:\tlearn: 0.1355202\ttest: 0.1372052\tbest: 0.1368747 (166)\ttotal: 14.7s\tremaining: 0us\n",
      "\n",
      "bestTest = 0.1368747452\n",
      "bestIteration = 166\n",
      "\n",
      "Shrink model to first 167 iterations.\n"
     ]
    },
    {
     "data": {
      "text/plain": [
       "<catboost.core.CatBoostClassifier at 0x2970ce30520>"
      ]
     },
     "execution_count": 13,
     "metadata": {},
     "output_type": "execute_result"
    }
   ],
   "source": [
    "clf = CatBoostClassifier(iterations=200,\n",
    "                         learning_rate=0.15,\n",
    "                         verbose=50,\n",
    "                         random_seed=RANDOM_STATE)\n",
    "clf.fit(X_train, y_train, cat_features=cat_features, eval_set=(X_val, y_val))"
   ]
  },
  {
   "cell_type": "markdown",
   "id": "2441fdf5",
   "metadata": {},
   "source": [
    "**Commentary:**\n",
    "- **LEARN**: learning error (will decrease all time)\n",
    "- **TEST**: test error that at some point reverts (rises from certain point - shown on graph)\n",
    "- **BEST**: goes to best iter and then stops (best is 194, then score do not improve)"
   ]
  },
  {
   "cell_type": "code",
   "execution_count": 14,
   "id": "864a7dd7",
   "metadata": {
    "scrolled": false
   },
   "outputs": [
    {
     "data": {
      "application/vnd.jupyter.widget-view+json": {
       "model_id": "3154420c9f804bb2865fdb367e3d9da6",
       "version_major": 2,
       "version_minor": 0
      },
      "text/plain": [
       "MetricVisualizer(layout=Layout(align_self='stretch', height='500px'))"
      ]
     },
     "metadata": {},
     "output_type": "display_data"
    },
    {
     "name": "stdout",
     "output_type": "stream",
     "text": [
      "0:\tlearn: 0.5323045\ttest: 0.5321613\tbest: 0.5321613 (0)\ttotal: 56.3ms\tremaining: 11.2s\n",
      "50:\tlearn: 0.1567473\ttest: 0.1393827\tbest: 0.1393827 (50)\ttotal: 4.14s\tremaining: 12.1s\n",
      "100:\tlearn: 0.1485654\ttest: 0.1373369\tbest: 0.1372843 (94)\ttotal: 7.99s\tremaining: 7.83s\n",
      "150:\tlearn: 0.1418426\ttest: 0.1373629\tbest: 0.1371569 (136)\ttotal: 12.1s\tremaining: 3.93s\n",
      "199:\tlearn: 0.1355202\ttest: 0.1372052\tbest: 0.1368747 (166)\ttotal: 16s\tremaining: 0us\n",
      "\n",
      "bestTest = 0.1368747452\n",
      "bestIteration = 166\n",
      "\n",
      "Shrink model to first 167 iterations.\n"
     ]
    },
    {
     "data": {
      "text/plain": [
       "<catboost.core.CatBoostClassifier at 0x2970ce42100>"
      ]
     },
     "execution_count": 14,
     "metadata": {},
     "output_type": "execute_result"
    }
   ],
   "source": [
    "clf = CatBoostClassifier(iterations=200,\n",
    "                         learning_rate=0.15,\n",
    "                         custom_loss=['AUC', 'Accuracy'],\n",
    "                         random_seed=RANDOM_STATE)\n",
    "clf.fit(X_train,\n",
    "        y_train,\n",
    "        cat_features=cat_features,\n",
    "        eval_set=(X_val, y_val),\n",
    "        verbose=50,\n",
    "        plot=True)"
   ]
  },
  {
   "cell_type": "markdown",
   "id": "f647b2f7",
   "metadata": {},
   "source": [
    "## Model comparison"
   ]
  },
  {
   "cell_type": "code",
   "execution_count": 15,
   "id": "f9075fcf",
   "metadata": {
    "scrolled": false
   },
   "outputs": [
    {
     "name": "stdout",
     "output_type": "stream",
     "text": [
      "0:\tlearn: 0.5812761\ttest: 0.5812277\tbest: 0.5812277 (0)\ttotal: 49.3ms\tremaining: 9.82s\n",
      "50:\tlearn: 0.1624291\ttest: 0.1416053\tbest: 0.1416053 (50)\ttotal: 3.49s\tremaining: 10.2s\n",
      "100:\tlearn: 0.1550260\ttest: 0.1387065\tbest: 0.1387065 (100)\ttotal: 7.5s\tremaining: 7.35s\n",
      "150:\tlearn: 0.1502514\ttest: 0.1376356\tbest: 0.1376356 (150)\ttotal: 11.6s\tremaining: 3.76s\n",
      "199:\tlearn: 0.1457817\ttest: 0.1370687\tbest: 0.1370267 (196)\ttotal: 15.4s\tremaining: 0us\n",
      "\n",
      "bestTest = 0.1370266653\n",
      "bestIteration = 196\n",
      "\n",
      "Shrink model to first 197 iterations.\n",
      "0:\tlearn: 0.6811148\ttest: 0.6811187\tbest: 0.6811187 (0)\ttotal: 59.8ms\tremaining: 11.9s\n",
      "50:\tlearn: 0.3448588\ttest: 0.3427953\tbest: 0.3427953 (50)\ttotal: 2.5s\tremaining: 7.3s\n",
      "100:\tlearn: 0.2392987\ttest: 0.2334130\tbest: 0.2334130 (100)\ttotal: 5.61s\tremaining: 5.49s\n",
      "150:\tlearn: 0.1968348\ttest: 0.1843852\tbest: 0.1843852 (150)\ttotal: 9.01s\tremaining: 2.92s\n",
      "199:\tlearn: 0.1818363\ttest: 0.1653072\tbest: 0.1653072 (199)\ttotal: 12.4s\tremaining: 0us\n",
      "\n",
      "bestTest = 0.1653071964\n",
      "bestIteration = 199\n",
      "\n"
     ]
    },
    {
     "data": {
      "text/plain": [
       "<catboost.core.CatBoostClassifier at 0x2970ce7c400>"
      ]
     },
     "execution_count": 15,
     "metadata": {},
     "output_type": "execute_result"
    }
   ],
   "source": [
    "clf1 = CatBoostClassifier(iterations=200,\n",
    "                          learning_rate=0.1,\n",
    "                          train_dir='learning_rate_0.1',\n",
    "                          random_seed=RANDOM_STATE)\n",
    "clf2 = CatBoostClassifier(iterations=200,\n",
    "                          learning_rate=0.01,\n",
    "                          train_dir='learning_rate_0.01',\n",
    "                          random_seed=RANDOM_STATE)\n",
    "\n",
    "clf1.fit(X_train, y_train, cat_features=cat_features, eval_set=(X_val, y_val), verbose=50)\n",
    "clf2.fit(X_train, y_train, cat_features=cat_features, eval_set=(X_val, y_val), verbose=50)"
   ]
  },
  {
   "cell_type": "code",
   "execution_count": 16,
   "id": "db056dd4",
   "metadata": {},
   "outputs": [
    {
     "name": "stdout",
     "output_type": "stream",
     "text": [
      "Evaluation metrics:\n",
      "Accuracy: 0.9556\n",
      "Precision: 0.965\n",
      "Recall: 0.9888\n",
      "F1 Score: 0.9768\n",
      "\n",
      "Evaluation metrics:\n",
      "Accuracy: 0.9466\n",
      "Precision: 0.9477\n",
      "Recall: 0.9985\n",
      "F1 Score: 0.9724\n",
      "\n"
     ]
    }
   ],
   "source": [
    "# Evaluation\n",
    "from sklearn.metrics import accuracy_score, precision_score, recall_score, f1_score\n",
    "\n",
    "\n",
    "def eval_metrics(model):\n",
    "    # Make predictions on the validation set for the first model\n",
    "    y_pred = model.predict(X_val)\n",
    "\n",
    "    # Calculate evaluation metrics for the first model\n",
    "    accuracy = round(accuracy_score(y_val, y_pred), 4)\n",
    "    precision = round(precision_score(y_val, y_pred), 4)\n",
    "    recall = round(recall_score(y_val, y_pred), 4)\n",
    "    f1 = round(f1_score(y_val, y_pred), 4)\n",
    "\n",
    "    # Print the evaluation metrics for the first model\n",
    "    print(\"Evaluation metrics:\")\n",
    "    print(\"Accuracy:\", accuracy)\n",
    "    print(\"Precision:\", precision)\n",
    "    print(\"Recall:\", recall)\n",
    "    print(\"F1 Score:\", f1)\n",
    "    print()\n",
    "\n",
    "\n",
    "eval_metrics(clf1)\n",
    "eval_metrics(clf2)"
   ]
  },
  {
   "cell_type": "code",
   "execution_count": 75,
   "id": "d5267771",
   "metadata": {
    "scrolled": false
   },
   "outputs": [
    {
     "data": {
      "image/png": "[encoded data removed]",
      "text/plain": [
       "<Figure size 360x360 with 2 Axes>"
      ]
     },
     "metadata": {
      "needs_background": "light"
     },
     "output_type": "display_data"
    },
    {
     "name": "stdout",
     "output_type": "stream",
     "text": [
      "Classification Report:\n",
      "              precision    recall  f1-score   support\n",
      "\n",
      "           0       0.68      0.40      0.50       369\n",
      "           1       0.96      0.99      0.98      6185\n",
      "\n",
      "    accuracy                           0.96      6554\n",
      "   macro avg       0.82      0.69      0.74      6554\n",
      "weighted avg       0.95      0.96      0.95      6554\n",
      "\n",
      "----------------------------------------------------------------------------------------------------\n"
     ]
    },
    {
     "data": {
      "image/png": "[encoded data removed]",
      "text/plain": [
       "<Figure size 360x360 with 2 Axes>"
      ]
     },
     "metadata": {
      "needs_background": "light"
     },
     "output_type": "display_data"
    },
    {
     "name": "stdout",
     "output_type": "stream",
     "text": [
      "Classification Report:\n",
      "              precision    recall  f1-score   support\n",
      "\n",
      "           0       0.76      0.08      0.14       369\n",
      "           1       0.95      1.00      0.97      6185\n",
      "\n",
      "    accuracy                           0.95      6554\n",
      "   macro avg       0.85      0.54      0.56      6554\n",
      "weighted avg       0.94      0.95      0.93      6554\n",
      "\n",
      "----------------------------------------------------------------------------------------------------\n"
     ]
    }
   ],
   "source": [
    "# Evaluation\n",
    "from sklearn.metrics import confusion_matrix, classification_report\n",
    "\n",
    "def eval_reports(model):\n",
    "    # Make predictions on the validation set for the first model\n",
    "    y_pred = model.predict(X_val)\n",
    "\n",
    "    # Строим матрицу ошибок\n",
    "    cm = confusion_matrix(y_val, model.predict(X_val))\n",
    "\n",
    "    plt.figure(figsize=(5, 5))\n",
    "    sns.heatmap(cm, annot=True, fmt='g', cmap='Blues')\n",
    "    plt.title('Confusion Matrix', fontsize=20)\n",
    "    plt.xlabel('Predicted labels')\n",
    "    plt.ylabel('True labels')\n",
    "    plt.show()\n",
    "    \n",
    "    # Classification report\n",
    "    cr = classification_report(y_val, y_pred)\n",
    "    \n",
    "    print(f\"Classification Report:\")\n",
    "    print(cr)\n",
    "    print('-'*100)\n",
    "\n",
    "eval_reports(clf1)\n",
    "eval_reports(clf2)"
   ]
  },
  {
   "cell_type": "markdown",
   "id": "ac495762",
   "metadata": {},
   "source": [
    "## Best iteration / Custom loss"
   ]
  },
  {
   "cell_type": "code",
   "execution_count": 18,
   "id": "362d14fd",
   "metadata": {},
   "outputs": [
    {
     "name": "stdout",
     "output_type": "stream",
     "text": [
      "0:\tlearn: 0.5812761\ttest: 0.5812277\tbest: 0.5812277 (0)\ttotal: 55.4ms\tremaining: 11s\n",
      "50:\tlearn: 0.1624291\ttest: 0.1416053\tbest: 0.1416053 (50)\ttotal: 4.04s\tremaining: 11.8s\n",
      "100:\tlearn: 0.1550260\ttest: 0.1387065\tbest: 0.1387065 (100)\ttotal: 8.77s\tremaining: 8.6s\n",
      "150:\tlearn: 0.1502514\ttest: 0.1376356\tbest: 0.1376356 (150)\ttotal: 13.4s\tremaining: 4.34s\n",
      "199:\tlearn: 0.1457817\ttest: 0.1370687\tbest: 0.1370267 (196)\ttotal: 17.9s\tremaining: 0us\n",
      "\n",
      "bestTest = 0.1370266653\n",
      "bestIteration = 196\n",
      "\n",
      "Shrink model to first 197 iterations.\n"
     ]
    },
    {
     "data": {
      "text/plain": [
       "<catboost.core.CatBoostClassifier at 0x2970ce424f0>"
      ]
     },
     "execution_count": 18,
     "metadata": {},
     "output_type": "execute_result"
    }
   ],
   "source": [
    "params = {\n",
    "    'loss_function': 'Logloss',\n",
    "    'iterations': 200,\n",
    "    'learning_rate': 0.1,\n",
    "    'random_seed': RANDOM_STATE\n",
    "}\n",
    "\n",
    "clf = CatBoostClassifier(**params)\n",
    "clf.fit(X_train,\n",
    "        y_train,\n",
    "        cat_features=cat_features,\n",
    "        eval_set=(X_val, y_val),\n",
    "        verbose=50)"
   ]
  },
  {
   "cell_type": "code",
   "execution_count": 19,
   "id": "16c07f9e",
   "metadata": {
    "scrolled": true
   },
   "outputs": [
    {
     "name": "stdout",
     "output_type": "stream",
     "text": [
      "Best score: {'learn': {'Logloss': 0.1457817274364799}, 'validation': {'Logloss': 0.13702666527897264}}\n",
      "Params: {'iterations': 200, 'learning_rate': 0.1, 'loss_function': 'Logloss', 'random_seed': 42}\n",
      "Best iteration: 196\n",
      "Total trees: 197\n"
     ]
    }
   ],
   "source": [
    "print(\"Best score:\", clf.best_score_)\n",
    "print(\"Params:\",clf.get_params())\n",
    "print(\"Best iteration:\", clf.best_iteration_)\n",
    "print(\"Total trees:\",  clf.tree_count_)"
   ]
  },
  {
   "cell_type": "code",
   "execution_count": 20,
   "id": "1237a9a9",
   "metadata": {},
   "outputs": [
    {
     "name": "stdout",
     "output_type": "stream",
     "text": [
      "0:\tlearn: 0.5812761\ttest: 0.5812277\tbest: 0.5812277 (0)\ttotal: 79.8ms\tremaining: 15.9s\n",
      "50:\tlearn: 0.1624291\ttest: 0.1416053\tbest: 0.1416053 (50)\ttotal: 4.48s\tremaining: 13.1s\n",
      "100:\tlearn: 0.1550260\ttest: 0.1387065\tbest: 0.1387065 (100)\ttotal: 9.42s\tremaining: 9.23s\n",
      "150:\tlearn: 0.1502514\ttest: 0.1376356\tbest: 0.1376356 (150)\ttotal: 14.6s\tremaining: 4.75s\n",
      "199:\tlearn: 0.1457817\ttest: 0.1370687\tbest: 0.1370267 (196)\ttotal: 19.6s\tremaining: 0us\n",
      "\n",
      "bestTest = 0.1370266653\n",
      "bestIteration = 196\n",
      "\n",
      "Shrink model to first 197 iterations.\n"
     ]
    },
    {
     "data": {
      "text/plain": [
       "<catboost.core.CatBoostClassifier at 0x2970ce70cd0>"
      ]
     },
     "execution_count": 20,
     "metadata": {},
     "output_type": "execute_result"
    }
   ],
   "source": [
    "params = {\n",
    "    'loss_function': 'Logloss',\n",
    "    'iterations': 200,\n",
    "    'learning_rate': 0.1,\n",
    "    'custom_loss': 'AUC',\n",
    "    'random_seed': RANDOM_STATE\n",
    "}\n",
    "\n",
    "clf = CatBoostClassifier(**params)\n",
    "clf.fit(X_train,\n",
    "        y_train,\n",
    "        cat_features=cat_features,\n",
    "        eval_set=(X_val, y_val),\n",
    "        verbose=50)"
   ]
  },
  {
   "cell_type": "code",
   "execution_count": 21,
   "id": "e04d32b8",
   "metadata": {
    "scrolled": true
   },
   "outputs": [
    {
     "name": "stdout",
     "output_type": "stream",
     "text": [
      "Best score: {'learn': {'Logloss': 0.1457817274364799}, 'validation': {'Logloss': 0.13702666527897264, 'AUC': 0.8928982830652882}}\n",
      "Params: {'iterations': 200, 'learning_rate': 0.1, 'loss_function': 'Logloss', 'random_seed': 42, 'custom_loss': 'AUC'}\n",
      "Best iteration: 196\n",
      "Total trees: 197\n"
     ]
    }
   ],
   "source": [
    "print(\"Best score:\", clf.best_score_)\n",
    "print(\"Params:\",clf.get_params())\n",
    "print(\"Best iteration:\", clf.best_iteration_)\n",
    "print(\"Total trees:\",  clf.tree_count_)"
   ]
  },
  {
   "cell_type": "markdown",
   "id": "72b6bdda",
   "metadata": {},
   "source": [
    "## Pool"
   ]
  },
  {
   "cell_type": "markdown",
   "id": "f497f1d7",
   "metadata": {},
   "source": [
    "There are several ways of passing dataset to training using X,y (the initial matrix) or using Pool class. Pool class is the class for storing the dataset."
   ]
  },
  {
   "cell_type": "markdown",
   "id": "9bb7f6db",
   "metadata": {},
   "source": [
    "You can use Pool class if the dataset has more than just X and y (for example, it has sample weights or groups) or if the dataset is large and it takes long time to read it into python."
   ]
  },
  {
   "cell_type": "code",
   "execution_count": 22,
   "id": "26966c82",
   "metadata": {},
   "outputs": [],
   "source": [
    "from catboost import Pool\n",
    "\n",
    "train_pool = Pool(data=X, label=y, cat_features=cat_features, has_header=True)\n",
    "eval_pool = Pool(data=X_val, label=y_val, cat_features=cat_features, has_header=True)\n",
    "test_pool = Pool(df_test, cat_features=cat_features, has_header=True)"
   ]
  },
  {
   "cell_type": "markdown",
   "id": "56445c2a",
   "metadata": {},
   "source": [
    "## Cross validation with catboost"
   ]
  },
  {
   "cell_type": "markdown",
   "id": "f35358e1",
   "metadata": {},
   "source": [
    "The following parameters describe how to split the dataset for cross validation:\n",
    "\n",
    "- **stratified** (True / False)\n",
    "- **folds** (stratified_shuffle_split / shuffle_split / repeated_split / custom iterator)\n",
    "- **type** (Classical / Inverted / TimeSeries)"
   ]
  },
  {
   "cell_type": "code",
   "execution_count": 23,
   "id": "d8f879a6",
   "metadata": {},
   "outputs": [],
   "source": [
    "from catboost import cv\n",
    "\n",
    "N_FOLDS = 2  # Для визуализации\n",
    "\n",
    "params = {\n",
    "    'loss_function': 'Logloss',\n",
    "    'iterations': 100,\n",
    "    'learning_rate': 0.1,\n",
    "    'custom_loss': 'AUC',\n",
    "    'random_seed': RANDOM_STATE\n",
    "}\n",
    "\n",
    "def print_cv_summary(cv_data):\n",
    "    cv_data.head(10)\n",
    "\n",
    "    best_value = cv_data['test-Logloss-mean'].min()\n",
    "    best_iter = cv_data['test-Logloss-mean'].values.argmin()\n",
    "\n",
    "    print('Best validation Logloss score : {:.4f}±{:.4f} on step {}'.format(\n",
    "        best_value, cv_data['test-Logloss-std'][best_iter], best_iter))"
   ]
  },
  {
   "cell_type": "markdown",
   "id": "23ea9d0c",
   "metadata": {},
   "source": [
    "### Not stratified"
   ]
  },
  {
   "cell_type": "code",
   "execution_count": 24,
   "id": "c9969e72",
   "metadata": {},
   "outputs": [
    {
     "name": "stdout",
     "output_type": "stream",
     "text": [
      "Training on fold [0/2]\n",
      "\n",
      "bestTest = 0.1757186671\n",
      "bestIteration = 99\n",
      "\n",
      "Training on fold [1/2]\n",
      "\n",
      "bestTest = 0.1625033257\n",
      "bestIteration = 99\n",
      "\n",
      "Best validation Logloss score : 0.1691±0.0093 on step 99\n"
     ]
    }
   ],
   "source": [
    "cv_data = cv(params=params,\n",
    "             pool=train_pool,\n",
    "             fold_count=N_FOLDS,\n",
    "             shuffle=True,\n",
    "             partition_random_seed=0,\n",
    "             stratified=False,\n",
    "             verbose=False)\n",
    "\n",
    "print_cv_summary(cv_data)"
   ]
  },
  {
   "cell_type": "markdown",
   "id": "24e752b5",
   "metadata": {},
   "source": [
    "### Stratified"
   ]
  },
  {
   "cell_type": "markdown",
   "id": "81a4197e",
   "metadata": {},
   "source": [
    "Stratified cross validation makes sense only for classification. If stratified=True, each fold contains the same percent of rows of each class as the dataset. If stratified=False, folds are sampled uniformly.\n",
    "\n",
    "Usually, stratified cross validation has smaller standard deviation of loss value."
   ]
  },
  {
   "cell_type": "code",
   "execution_count": 25,
   "id": "e264442a",
   "metadata": {},
   "outputs": [
    {
     "name": "stdout",
     "output_type": "stream",
     "text": [
      "Training on fold [0/2]\n",
      "\n",
      "bestTest = 0.1696693094\n",
      "bestIteration = 99\n",
      "\n",
      "Training on fold [1/2]\n",
      "\n",
      "bestTest = 0.1704956575\n",
      "bestIteration = 97\n",
      "\n",
      "Best validation Logloss score : 0.1701±0.0006 on step 99\n"
     ]
    }
   ],
   "source": [
    "cv_data = cv(params=params,\n",
    "             pool=train_pool,\n",
    "             fold_count=N_FOLDS,\n",
    "             shuffle=True,\n",
    "             partition_random_seed=0,\n",
    "             stratified=True,\n",
    "             verbose=False)\n",
    "\n",
    "print_cv_summary(cv_data)"
   ]
  },
  {
   "cell_type": "markdown",
   "id": "05fd6e97",
   "metadata": {},
   "source": [
    "## Types of CatBoost folds"
   ]
  },
  {
   "cell_type": "markdown",
   "id": "434ce778",
   "metadata": {},
   "source": [
    "If type='Classical', then each test set consists of a single fold, and the corresponding train set consists of the remaining k-1 folds."
   ]
  },
  {
   "cell_type": "code",
   "execution_count": 26,
   "id": "bcc98eab",
   "metadata": {},
   "outputs": [
    {
     "name": "stdout",
     "output_type": "stream",
     "text": [
      "Training on fold [0/2]\n",
      "\n",
      "bestTest = 0.1696693094\n",
      "bestIteration = 99\n",
      "\n",
      "Training on fold [1/2]\n",
      "\n",
      "bestTest = 0.1704956575\n",
      "bestIteration = 97\n",
      "\n",
      "Best validation Logloss score : 0.1701±0.0006 on step 99\n"
     ]
    }
   ],
   "source": [
    "cv_data = cv(params=params,\n",
    "             pool=train_pool,\n",
    "             fold_count=N_FOLDS,\n",
    "             shuffle=True,\n",
    "#              plot=True,\n",
    "             type='Classical',\n",
    "             verbose=False)\n",
    "\n",
    "print_cv_summary(cv_data)"
   ]
  },
  {
   "cell_type": "markdown",
   "id": "9d9be302",
   "metadata": {},
   "source": [
    "If type='Inverted', then each test set consists of k-1 folds, and the corresponding train set consists of the remaining fold."
   ]
  },
  {
   "cell_type": "code",
   "execution_count": 27,
   "id": "6db525c1",
   "metadata": {},
   "outputs": [
    {
     "name": "stdout",
     "output_type": "stream",
     "text": [
      "Training on fold [0/2]\n",
      "\n",
      "bestTest = 0.1704956575\n",
      "bestIteration = 97\n",
      "\n",
      "Training on fold [1/2]\n",
      "\n",
      "bestTest = 0.1696693094\n",
      "bestIteration = 99\n",
      "\n",
      "Best validation Logloss score : 0.1701±0.0006 on step 99\n"
     ]
    }
   ],
   "source": [
    "cv_data = cv(params=params,\n",
    "             pool=train_pool,\n",
    "             fold_count=N_FOLDS,\n",
    "             shuffle=True,\n",
    "#              plot=True,\n",
    "             type='Inverted',\n",
    "             verbose=False)\n",
    "\n",
    "print_cv_summary(cv_data)"
   ]
  },
  {
   "cell_type": "markdown",
   "id": "1c58ab09",
   "metadata": {},
   "source": [
    "If type=TimeSeries, then each train set consists of the first k folds, and the corresponding test set consists of the (k+1)-th fold.\n",
    "\n",
    "Usually, this type of folds reduces standard deviation of loss value, if order of rows in the dataset is important."
   ]
  },
  {
   "cell_type": "code",
   "execution_count": 28,
   "id": "b5e71808",
   "metadata": {},
   "outputs": [],
   "source": [
    "# cv_data = cv(params=params,\n",
    "#              pool=train_pool,\n",
    "#              fold_count=5,\n",
    "#              shuffle=True,\n",
    "#              plot=True,\n",
    "#              type='TimeSeries',\n",
    "#              verbose=False)\n",
    "\n",
    "# print_cv_summary(cv_data)"
   ]
  },
  {
   "cell_type": "markdown",
   "id": "7129a8f8",
   "metadata": {},
   "source": [
    "## Cross validation with sklearn folds"
   ]
  },
  {
   "cell_type": "markdown",
   "id": "710aab0b",
   "metadata": {},
   "source": [
    "### Random permutation cross-validator"
   ]
  },
  {
   "cell_type": "code",
   "execution_count": 29,
   "id": "9c12412d",
   "metadata": {},
   "outputs": [
    {
     "name": "stdout",
     "output_type": "stream",
     "text": [
      "Training on fold [0/2]\n",
      "\n",
      "bestTest = 0.1607512613\n",
      "bestIteration = 99\n",
      "\n",
      "Training on fold [1/2]\n",
      "\n",
      "bestTest = 0.1606223277\n",
      "bestIteration = 96\n",
      "\n",
      "Best validation Logloss score : 0.1607±0.0001 on step 98\n"
     ]
    }
   ],
   "source": [
    "from sklearn.model_selection import ShuffleSplit\n",
    "\n",
    "shuffle_split = ShuffleSplit(n_splits=N_FOLDS,\n",
    "                             test_size=TEST_SIZE,\n",
    "                             random_state=RANDOM_STATE)\n",
    "cv_data = cv(\n",
    "    params=params,\n",
    "    pool=train_pool,\n",
    "    verbose=False,\n",
    "#     plot=True,\n",
    "    folds=shuffle_split)\n",
    "\n",
    "print_cv_summary(cv_data)"
   ]
  },
  {
   "cell_type": "markdown",
   "id": "4a15e199",
   "metadata": {},
   "source": [
    "### Repeated K-Fold cross validator"
   ]
  },
  {
   "cell_type": "code",
   "execution_count": 30,
   "id": "5ad7f45b",
   "metadata": {},
   "outputs": [
    {
     "name": "stdout",
     "output_type": "stream",
     "text": [
      "Training on fold [0/4]\n",
      "\n",
      "bestTest = 0.1656849772\n",
      "bestIteration = 99\n",
      "\n",
      "Training on fold [1/4]\n",
      "\n",
      "bestTest = 0.1743546954\n",
      "bestIteration = 98\n",
      "\n",
      "Training on fold [2/4]\n",
      "\n",
      "bestTest = 0.1703305185\n",
      "bestIteration = 85\n",
      "\n",
      "Training on fold [3/4]\n",
      "\n",
      "bestTest = 0.1668982474\n",
      "bestIteration = 99\n",
      "\n",
      "Best validation Logloss score : 0.1693±0.0039 on step 99\n"
     ]
    }
   ],
   "source": [
    "from sklearn.model_selection import RepeatedKFold\n",
    "\n",
    "repeated_split = RepeatedKFold(n_splits=N_FOLDS,\n",
    "                               n_repeats=2,\n",
    "                               random_state=RANDOM_STATE)\n",
    "cv_data = cv(\n",
    "    params=params,\n",
    "    pool=train_pool,\n",
    "    verbose=False,\n",
    "#     plot=True,\n",
    "    folds=repeated_split)\n",
    "\n",
    "print_cv_summary(cv_data)"
   ]
  },
  {
   "cell_type": "markdown",
   "id": "586223dd",
   "metadata": {},
   "source": [
    "### Stratified ShuffleSplit cross-validator"
   ]
  },
  {
   "cell_type": "code",
   "execution_count": 31,
   "id": "1ad54780",
   "metadata": {
    "scrolled": true
   },
   "outputs": [
    {
     "name": "stdout",
     "output_type": "stream",
     "text": [
      "Training on fold [0/2]\n",
      "\n",
      "bestTest = 0.1659885249\n",
      "bestIteration = 92\n",
      "\n",
      "Training on fold [1/2]\n",
      "\n",
      "bestTest = 0.1629630002\n",
      "bestIteration = 97\n",
      "\n",
      "Best validation Logloss score : 0.1646±0.0022 on step 96\n"
     ]
    }
   ],
   "source": [
    "from sklearn.model_selection import StratifiedShuffleSplit\n",
    "\n",
    "stratified_shuffle_split = StratifiedShuffleSplit(n_splits=N_FOLDS,\n",
    "                                                  test_size=TEST_SIZE,\n",
    "                                                  random_state=RANDOM_STATE)\n",
    "cv_data = cv(params=params,\n",
    "             pool=train_pool,\n",
    "             verbose=False,\n",
    "#              plot=True,\n",
    "             folds=stratified_shuffle_split)\n",
    "\n",
    "print_cv_summary(cv_data)"
   ]
  },
  {
   "cell_type": "markdown",
   "id": "544b90b4",
   "metadata": {},
   "source": [
    "### K-Fold"
   ]
  },
  {
   "cell_type": "code",
   "execution_count": 32,
   "id": "817c8e6f",
   "metadata": {},
   "outputs": [
    {
     "name": "stdout",
     "output_type": "stream",
     "text": [
      "Training on fold [0/2]\n",
      "\n",
      "bestTest = 0.1656849772\n",
      "bestIteration = 99\n",
      "\n",
      "Training on fold [1/2]\n",
      "\n",
      "bestTest = 0.1743546954\n",
      "bestIteration = 98\n",
      "\n",
      "Best validation Logloss score : 0.1700±0.0061 on step 99\n"
     ]
    }
   ],
   "source": [
    "from sklearn.model_selection import KFold\n",
    "\n",
    "basic_split = KFold(n_splits=N_FOLDS, shuffle=True, random_state=RANDOM_STATE)\n",
    "\n",
    "cv_data = cv(params=params,\n",
    "             pool=train_pool,\n",
    "             verbose=False,\n",
    "#              plot=True,\n",
    "             folds=basic_split)\n",
    "\n",
    "print_cv_summary(cv_data)"
   ]
  },
  {
   "cell_type": "markdown",
   "id": "59935675",
   "metadata": {},
   "source": [
    "## Overfitting detector"
   ]
  },
  {
   "cell_type": "code",
   "execution_count": 33,
   "id": "83272d10",
   "metadata": {},
   "outputs": [
    {
     "name": "stdout",
     "output_type": "stream",
     "text": [
      "0:\tlearn: 0.5812761\ttest: 0.5812277\tbest: 0.5812277 (0)\ttotal: 61.2ms\tremaining: 30.5s\n",
      "50:\tlearn: 0.1624291\ttest: 0.1416053\tbest: 0.1416053 (50)\ttotal: 4.9s\tremaining: 43.1s\n",
      "100:\tlearn: 0.1550260\ttest: 0.1387065\tbest: 0.1387065 (100)\ttotal: 10.3s\tremaining: 40.7s\n",
      "150:\tlearn: 0.1502514\ttest: 0.1376356\tbest: 0.1376356 (150)\ttotal: 16.6s\tremaining: 38.4s\n",
      "200:\tlearn: 0.1457496\ttest: 0.1370325\tbest: 0.1370267 (196)\ttotal: 21.9s\tremaining: 32.6s\n",
      "Stopped by overfitting detector  (20 iterations wait)\n",
      "\n",
      "bestTest = 0.1370180423\n",
      "bestIteration = 201\n",
      "\n",
      "Shrink model to first 202 iterations.\n"
     ]
    },
    {
     "data": {
      "text/plain": [
       "<catboost.core.CatBoostClassifier at 0x2970cfbf550>"
      ]
     },
     "execution_count": 33,
     "metadata": {},
     "output_type": "execute_result"
    }
   ],
   "source": [
    "params = {\n",
    "    'iterations': 500,\n",
    "    'learning_rate': 0.1,\n",
    "    'random_seed': RANDOM_STATE,\n",
    "    'early_stopping_rounds': 20\n",
    "}\n",
    "\n",
    "clf = CatBoostClassifier(**params)\n",
    "\n",
    "clf.fit(\n",
    "    X_train,\n",
    "    y_train,\n",
    "    cat_features=cat_features,\n",
    "    eval_set=(X_val, y_val),\n",
    "#     plot=True,\n",
    "    verbose=50)"
   ]
  },
  {
   "cell_type": "code",
   "execution_count": 34,
   "id": "e4de21bd",
   "metadata": {},
   "outputs": [
    {
     "name": "stdout",
     "output_type": "stream",
     "text": [
      "202\n",
      "{'learn': {'Logloss': 0.14382863104729943}, 'validation': {'Logloss': 0.13701804225838768}}\n"
     ]
    }
   ],
   "source": [
    "print(clf.tree_count_)\n",
    "print(clf.best_score_)"
   ]
  },
  {
   "cell_type": "code",
   "execution_count": 35,
   "id": "06602c96",
   "metadata": {},
   "outputs": [
    {
     "name": "stdout",
     "output_type": "stream",
     "text": [
      "0:\ttest: 0.5124265\tbest: 0.5124265 (0)\ttotal: 65.4ms\tremaining: 32.6s\n",
      "50:\ttest: 0.8845156\tbest: 0.8845156 (50)\ttotal: 5.31s\tremaining: 46.7s\n",
      "100:\ttest: 0.8879490\tbest: 0.8879490 (100)\ttotal: 11.1s\tremaining: 44s\n",
      "150:\ttest: 0.8911640\tbest: 0.8911640 (150)\ttotal: 16.9s\tremaining: 39.1s\n",
      "Stopped by overfitting detector  (20 iterations wait)\n",
      "\n",
      "bestTest = 0.8921748789\n",
      "bestIteration = 163\n",
      "\n",
      "Shrink model to first 164 iterations.\n"
     ]
    },
    {
     "data": {
      "text/plain": [
       "<catboost.core.CatBoostClassifier at 0x2970cfc8970>"
      ]
     },
     "execution_count": 35,
     "metadata": {},
     "output_type": "execute_result"
    }
   ],
   "source": [
    "params = {\n",
    "    'eval_metric': 'AUC',\n",
    "    'iterations': 500,\n",
    "    'learning_rate': 0.1,\n",
    "    'random_seed': RANDOM_STATE,\n",
    "    'early_stopping_rounds': 20\n",
    "}\n",
    "\n",
    "clf = CatBoostClassifier(**params)\n",
    "\n",
    "clf.fit(\n",
    "    X_train,\n",
    "    y_train,\n",
    "    cat_features=cat_features,\n",
    "    eval_set=(X_val, y_val),\n",
    "#     plot=True,\n",
    "    verbose=50)"
   ]
  },
  {
   "cell_type": "code",
   "execution_count": 36,
   "id": "a6495b79",
   "metadata": {},
   "outputs": [
    {
     "name": "stdout",
     "output_type": "stream",
     "text": [
      "164\n",
      "{'learn': {'Logloss': 0.14729165420045187}, 'validation': {'Logloss': 0.13720836706006653, 'AUC': 0.8921748789031948}}\n"
     ]
    }
   ],
   "source": [
    "print(clf.tree_count_)\n",
    "print(clf.best_score_)"
   ]
  },
  {
   "cell_type": "markdown",
   "id": "70e94b73",
   "metadata": {},
   "source": [
    "## Select decision boundary"
   ]
  },
  {
   "cell_type": "code",
   "execution_count": 77,
   "id": "f2528ac5",
   "metadata": {},
   "outputs": [
    {
     "name": "stdout",
     "output_type": "stream",
     "text": [
      "0:\tlearn: 0.5812761\ttest: 0.5812277\tbest: 0.5812277 (0)\ttotal: 133ms\tremaining: 26.5s\n",
      "50:\tlearn: 0.1624291\ttest: 0.1416053\tbest: 0.1416053 (50)\ttotal: 7.61s\tremaining: 22.2s\n",
      "100:\tlearn: 0.1550260\ttest: 0.1387065\tbest: 0.1387065 (100)\ttotal: 15.6s\tremaining: 15.3s\n",
      "150:\tlearn: 0.1502514\ttest: 0.1376356\tbest: 0.1376356 (150)\ttotal: 24.1s\tremaining: 7.83s\n",
      "199:\tlearn: 0.1457817\ttest: 0.1370687\tbest: 0.1370267 (196)\ttotal: 32.7s\tremaining: 0us\n",
      "\n",
      "bestTest = 0.1370266653\n",
      "bestIteration = 196\n",
      "\n",
      "Shrink model to first 197 iterations.\n"
     ]
    },
    {
     "data": {
      "text/plain": [
       "<catboost.core.CatBoostClassifier at 0x29731b555b0>"
      ]
     },
     "execution_count": 77,
     "metadata": {},
     "output_type": "execute_result"
    }
   ],
   "source": [
    "params = {'iterations': 200, 'random_seed': RANDOM_STATE, 'learning_rate': 0.1}\n",
    "\n",
    "clf = CatBoostClassifier(**params)\n",
    "\n",
    "clf.fit(X_train,\n",
    "        y_train,\n",
    "        cat_features=cat_features,\n",
    "        eval_set=(X_val, y_val),\n",
    "        verbose=False)"
   ]
  },
  {
   "cell_type": "code",
   "execution_count": 80,
   "id": "29df50f7",
   "metadata": {},
   "outputs": [],
   "source": [
    "from catboost.utils import get_roc_curve\n",
    "import sklearn\n",
    "from sklearn import metrics\n",
    "\n",
    "curve = get_roc_curve(clf, eval_pool)\n",
    "(fpr, tpr, thresholds) = curve\n",
    "roc_auc = sklearn.metrics.auc(fpr, tpr)"
   ]
  },
  {
   "cell_type": "code",
   "execution_count": 82,
   "id": "7499070c",
   "metadata": {
    "scrolled": false
   },
   "outputs": [
    {
     "data": {
      "image/png": "[encoded data removed]",
      "text/plain": [
       "<Figure size 1152x576 with 1 Axes>"
      ]
     },
     "metadata": {
      "needs_background": "light"
     },
     "output_type": "display_data"
    }
   ],
   "source": [
    "import matplotlib.pyplot as plt\n",
    "\n",
    "plt.figure(figsize=(16, 8))\n",
    "lw = 2\n",
    "\n",
    "plt.plot(fpr,\n",
    "         tpr,\n",
    "         color='darkorange',\n",
    "         lw=lw,\n",
    "         label='ROC curve (area = %0.2f)' % roc_auc,\n",
    "         alpha=0.5)\n",
    "\n",
    "plt.plot([0, 1], [0, 1], color='navy', lw=lw, linestyle='--', alpha=0.5)\n",
    "\n",
    "plt.xlim([0.0, 1.0])\n",
    "plt.ylim([0.0, 1.05])\n",
    "plt.xticks(fontsize=16)\n",
    "plt.yticks(fontsize=16)\n",
    "plt.grid(True)\n",
    "plt.xlabel('False Positive Rate', fontsize=16)\n",
    "plt.ylabel('True Positive Rate', fontsize=16)\n",
    "plt.title('ROC-AUC Curve', fontsize=20)\n",
    "plt.legend(loc=\"lower right\", fontsize=16)\n",
    "plt.show()"
   ]
  },
  {
   "cell_type": "code",
   "execution_count": 40,
   "id": "2792135a",
   "metadata": {},
   "outputs": [],
   "source": [
    "from catboost.utils import get_fpr_curve\n",
    "from catboost.utils import get_fnr_curve\n",
    "\n",
    "(thresholds, fpr) = get_fpr_curve(curve=curve)\n",
    "(thresholds, fnr) = get_fnr_curve(curve=curve)"
   ]
  },
  {
   "cell_type": "code",
   "execution_count": 41,
   "id": "1debab17",
   "metadata": {},
   "outputs": [
    {
     "data": {
      "image/png": "[encoded data removed]",
      "text/plain": [
       "<Figure size 1152x576 with 1 Axes>"
      ]
     },
     "metadata": {
      "needs_background": "light"
     },
     "output_type": "display_data"
    }
   ],
   "source": [
    "plt.figure(figsize=(16, 8))\n",
    "lw = 2\n",
    "\n",
    "plt.plot(thresholds, fpr, color='blue', lw=lw, label='FPR', alpha=0.5)\n",
    "plt.plot(thresholds, fnr, color='green', lw=lw, label='FNR', alpha=0.5)\n",
    "\n",
    "plt.xlim([0.0, 1.0])\n",
    "plt.ylim([0.0, 1.05])\n",
    "plt.xticks(fontsize=16)\n",
    "plt.yticks(fontsize=16)\n",
    "plt.grid(True)\n",
    "plt.xlabel('Threshold', fontsize=16)\n",
    "plt.ylabel('Error Rate', fontsize=16)\n",
    "plt.title('FPR-FNR curves', fontsize=20)\n",
    "plt.legend(loc=\"lower left\", fontsize=16)\n",
    "plt.show()"
   ]
  },
  {
   "cell_type": "code",
   "execution_count": 42,
   "id": "065adbbc",
   "metadata": {},
   "outputs": [
    {
     "name": "stdout",
     "output_type": "stream",
     "text": [
      "0.4698\n",
      "0.9939\n"
     ]
    }
   ],
   "source": [
    "from catboost.utils import select_threshold\n",
    "\n",
    "print(round(select_threshold(model=clf, data=eval_pool, FNR=0.01), 4))\n",
    "print(round(select_threshold(model=clf, data=eval_pool, FPR=0.01), 4))"
   ]
  },
  {
   "cell_type": "markdown",
   "id": "37075dbe",
   "metadata": {},
   "source": [
    "## Model predictions"
   ]
  },
  {
   "cell_type": "code",
   "execution_count": 43,
   "id": "a585a8f1",
   "metadata": {},
   "outputs": [
    {
     "data": {
      "text/plain": [
       "array([[0.00990121, 0.99009879],\n",
       "       [0.01635136, 0.98364864],\n",
       "       [0.02315953, 0.97684047],\n",
       "       ...,\n",
       "       [0.01460598, 0.98539402],\n",
       "       [0.00647202, 0.99352798],\n",
       "       [0.01361547, 0.98638453]])"
      ]
     },
     "execution_count": 43,
     "metadata": {},
     "output_type": "execute_result"
    }
   ],
   "source": [
    "clf.predict_proba(X_val)"
   ]
  },
  {
   "cell_type": "code",
   "execution_count": 44,
   "id": "db6cd566",
   "metadata": {},
   "outputs": [
    {
     "data": {
      "text/plain": [
       "array([1, 1, 1, ..., 1, 1, 1], dtype=int64)"
      ]
     },
     "execution_count": 44,
     "metadata": {},
     "output_type": "execute_result"
    }
   ],
   "source": [
    "clf.predict(X_val)"
   ]
  },
  {
   "cell_type": "code",
   "execution_count": 45,
   "id": "5bafdb96",
   "metadata": {},
   "outputs": [
    {
     "name": "stdout",
     "output_type": "stream",
     "text": [
      "[4.60514732 4.09695787 3.74191695 ... 4.21161052 5.03377411 4.28283936]\n"
     ]
    }
   ],
   "source": [
    "raw_pred = clf.predict(data=X_val, prediction_type='RawFormulaVal')\n",
    "print(raw_pred)"
   ]
  },
  {
   "cell_type": "code",
   "execution_count": 46,
   "id": "b0dddf6a",
   "metadata": {},
   "outputs": [
    {
     "name": "stdout",
     "output_type": "stream",
     "text": [
      "[0.99009879 0.98364864 0.97684047 ... 0.98539402 0.99352798 0.98638453]\n"
     ]
    }
   ],
   "source": [
    "from numpy import exp\n",
    "\n",
    "sigmoid = lambda x: 1 / (1 + exp(-x))\n",
    "\n",
    "probabilities = sigmoid(raw_pred)\n",
    "\n",
    "print(probabilities)"
   ]
  },
  {
   "cell_type": "markdown",
   "id": "f6656d43",
   "metadata": {},
   "source": [
    "## Metric evaluation on a new dataset"
   ]
  },
  {
   "cell_type": "code",
   "execution_count": 47,
   "id": "94e9529b",
   "metadata": {},
   "outputs": [
    {
     "name": "stdout",
     "output_type": "stream",
     "text": [
      "0:\tlearn: 0.5812761\ttest: 0.5812277\tbest: 0.5812277 (0)\ttotal: 70.5ms\tremaining: 14s\n",
      "50:\tlearn: 0.1624291\ttest: 0.1416053\tbest: 0.1416053 (50)\ttotal: 5.71s\tremaining: 16.7s\n",
      "100:\tlearn: 0.1550260\ttest: 0.1387065\tbest: 0.1387065 (100)\ttotal: 11.9s\tremaining: 11.7s\n",
      "150:\tlearn: 0.1502514\ttest: 0.1376356\tbest: 0.1376356 (150)\ttotal: 18.2s\tremaining: 5.92s\n",
      "199:\tlearn: 0.1457817\ttest: 0.1370687\tbest: 0.1370267 (196)\ttotal: 24.5s\tremaining: 0us\n",
      "\n",
      "bestTest = 0.1370266653\n",
      "bestIteration = 196\n",
      "\n",
      "Shrink model to first 197 iterations.\n"
     ]
    },
    {
     "data": {
      "text/plain": [
       "<catboost.core.CatBoostClassifier at 0x2970d1dab20>"
      ]
     },
     "execution_count": 47,
     "metadata": {},
     "output_type": "execute_result"
    }
   ],
   "source": [
    "params = {\n",
    "    'iterations': 200,\n",
    "    'random_seed': RANDOM_STATE,\n",
    "    'learning_rate': 0.1,\n",
    "    'early_stopping_rounds': 20\n",
    "}\n",
    "\n",
    "clf = CatBoostClassifier(**params)\n",
    "\n",
    "clf.fit(X_train,\n",
    "        y_train,\n",
    "        cat_features=cat_features,\n",
    "        eval_set=(X_val, y_val),\n",
    "        verbose=50)"
   ]
  },
  {
   "cell_type": "code",
   "execution_count": 48,
   "id": "fe0412d6",
   "metadata": {},
   "outputs": [
    {
     "name": "stdout",
     "output_type": "stream",
     "text": [
      "AUC values:\n",
      "[0.51606922 0.5964047  0.6058886  0.60589464 0.60589464 0.74694422\n",
      " 0.74906769 0.75899744 0.79703895 0.850107   0.88553578 0.90098702\n",
      " 0.91013263 0.91921487 0.92624009 0.92820527 0.92856    0.92902381\n",
      " 0.92926004 0.92924489 0.9347724  0.93515772 0.94480516 0.95145857\n",
      " 0.95645854 0.96053817 0.9627126  0.96338102 0.9642124  0.96632087\n",
      " 0.96642259 0.966595   0.96750224 0.96739614 0.96771058 0.96761887\n",
      " 0.96856014 0.96874696 0.96893533 0.96890576 0.96889915 0.96922434\n",
      " 0.96905297 0.96969489 0.96987989 0.97008943 0.96991642 0.96976892\n",
      " 0.96983682 0.9703511  0.97044012 0.97067215 0.97067315 0.97076447\n",
      " 0.97088953 0.97080506 0.9708039  0.97086781 0.97112686 0.97112182\n",
      " 0.97120137 0.97115121 0.97121865 0.97114901 0.97110689 0.97123531\n",
      " 0.97124405 0.97129992 0.97135545 0.97156811 0.97150891 0.9727244\n",
      " 0.97282359 0.97393158 0.97396429 0.97396523 0.97395386 0.97395683\n",
      " 0.97408981 0.97499687 0.97502195 0.97519177 0.97532658 0.97593253\n",
      " 0.97592818 0.97595142 0.97616307 0.97616307 0.97618252 0.97620328\n",
      " 0.97651021 0.97650715 0.97647384 0.97658741 0.97647525 0.97646482\n",
      " 0.97649916 0.97647876 0.97690917 0.97724645 0.97723482 0.97719265\n",
      " 0.97764002 0.97775377 0.97783956 0.97777753 0.97778449 0.97780739\n",
      " 0.97782602 0.97781863 0.97813823 0.97814374 0.97816853 0.97812048\n",
      " 0.97823221 0.97846424 0.97847737 0.97842142 0.978596   0.97866249\n",
      " 0.97866167 0.97875154 0.97886587 0.97893352 0.97887724 0.97907315\n",
      " 0.97904858 0.97902361 0.97904378 0.9790335  0.9789508  0.97897923\n",
      " 0.97896849 0.97891989 0.97892855 0.97892605 0.97900352 0.97900861\n",
      " 0.97900825 0.97908591 0.97908876 0.97919029 0.97931785 0.97929597\n",
      " 0.97936566 0.97937718 0.97940437 0.97944104 0.97937092 0.97941276\n",
      " 0.97940509 0.97940463 0.97938025 0.97939285 0.97939007 0.97937507\n",
      " 0.97939353 0.97943004 0.97967312 0.97974993 0.97972066 0.97972204\n",
      " 0.9797384  0.9797747  0.97974906 0.97974851 0.97970311 0.9797399\n",
      " 0.97970451 0.97973572 0.97973916 0.9797291  0.97975187 0.97972048\n",
      " 0.97971872 0.97965119 0.97965549 0.97968027 0.97973599 0.97973578\n",
      " 0.9797395  0.97974959 0.97975917 0.97973769 0.97974066 0.97978689\n",
      " 0.97981101 0.97980357 0.97985874 0.97984733 0.97980526 0.97990337\n",
      " 0.9798467  0.97982428 0.97983376 0.97987692 0.9799036 ]\n",
      "\n",
      "0.9573238411589289\n"
     ]
    }
   ],
   "source": [
    "metrics =  clf.eval_metrics(data=train_pool,\n",
    "                 metrics=['Logloss', 'AUC'],\n",
    "                 ntree_start=0,\n",
    "                 ntree_end=0,\n",
    "                 eval_period=1\n",
    "                )\n",
    "\n",
    "print('AUC values:')\n",
    "print(np.array(metrics['AUC']))\n",
    "print()\n",
    "print(np.array(metrics['AUC']).mean())"
   ]
  },
  {
   "cell_type": "markdown",
   "id": "e8dc1e73",
   "metadata": {},
   "source": [
    "## Feature importances"
   ]
  },
  {
   "cell_type": "code",
   "execution_count": 49,
   "id": "89e0bcd2",
   "metadata": {},
   "outputs": [
    {
     "name": "stdout",
     "output_type": "stream",
     "text": [
      "0:\tlearn: 0.5812761\ttest: 0.5812277\tbest: 0.5812277 (0)\ttotal: 79.6ms\tremaining: 15.8s\n",
      "50:\tlearn: 0.1624291\ttest: 0.1416053\tbest: 0.1416053 (50)\ttotal: 6.02s\tremaining: 17.6s\n",
      "100:\tlearn: 0.1550260\ttest: 0.1387065\tbest: 0.1387065 (100)\ttotal: 12.9s\tremaining: 12.6s\n",
      "150:\tlearn: 0.1502514\ttest: 0.1376356\tbest: 0.1376356 (150)\ttotal: 19.6s\tremaining: 6.36s\n",
      "199:\tlearn: 0.1457817\ttest: 0.1370687\tbest: 0.1370267 (196)\ttotal: 26.2s\tremaining: 0us\n",
      "\n",
      "bestTest = 0.1370266653\n",
      "bestIteration = 196\n",
      "\n",
      "Shrink model to first 197 iterations.\n"
     ]
    },
    {
     "data": {
      "text/plain": [
       "<catboost.core.CatBoostClassifier at 0x2970ede3bb0>"
      ]
     },
     "execution_count": 49,
     "metadata": {},
     "output_type": "execute_result"
    }
   ],
   "source": [
    "params = {\n",
    "    'iterations': 200,\n",
    "    'random_seed': RANDOM_STATE,\n",
    "    'learning_rate': 0.1,\n",
    "    'early_stopping_rounds': 20\n",
    "}\n",
    "\n",
    "clf = CatBoostClassifier(**params)\n",
    "\n",
    "clf.fit(X_train,\n",
    "        y_train,\n",
    "        cat_features=cat_features,\n",
    "        eval_set=(X_val, y_val),\n",
    "        verbose=50)"
   ]
  },
  {
   "cell_type": "code",
   "execution_count": 50,
   "id": "8ca41615",
   "metadata": {},
   "outputs": [
    {
     "data": {
      "text/html": [
       "<div>\n",
       "<style scoped>\n",
       "    .dataframe tbody tr th:only-of-type {\n",
       "        vertical-align: middle;\n",
       "    }\n",
       "\n",
       "    .dataframe tbody tr th {\n",
       "        vertical-align: top;\n",
       "    }\n",
       "\n",
       "    .dataframe thead th {\n",
       "        text-align: right;\n",
       "    }\n",
       "</style>\n",
       "<table border=\"1\" class=\"dataframe\">\n",
       "  <thead>\n",
       "    <tr style=\"text-align: right;\">\n",
       "      <th></th>\n",
       "      <th>Feature Id</th>\n",
       "      <th>Importances</th>\n",
       "    </tr>\n",
       "  </thead>\n",
       "  <tbody>\n",
       "    <tr>\n",
       "      <th>0</th>\n",
       "      <td>RESOURCE</td>\n",
       "      <td>22.011</td>\n",
       "    </tr>\n",
       "    <tr>\n",
       "      <th>1</th>\n",
       "      <td>MGR_ID</td>\n",
       "      <td>19.893</td>\n",
       "    </tr>\n",
       "    <tr>\n",
       "      <th>2</th>\n",
       "      <td>ROLE_DEPTNAME</td>\n",
       "      <td>15.637</td>\n",
       "    </tr>\n",
       "    <tr>\n",
       "      <th>3</th>\n",
       "      <td>ROLE_TITLE</td>\n",
       "      <td>15.397</td>\n",
       "    </tr>\n",
       "    <tr>\n",
       "      <th>4</th>\n",
       "      <td>ROLE_ROLLUP_2</td>\n",
       "      <td>12.557</td>\n",
       "    </tr>\n",
       "    <tr>\n",
       "      <th>5</th>\n",
       "      <td>ROLE_FAMILY</td>\n",
       "      <td>7.792</td>\n",
       "    </tr>\n",
       "    <tr>\n",
       "      <th>6</th>\n",
       "      <td>ROLE_ROLLUP_1</td>\n",
       "      <td>6.713</td>\n",
       "    </tr>\n",
       "  </tbody>\n",
       "</table>\n",
       "</div>"
      ],
      "text/plain": [
       "      Feature Id  Importances\n",
       "0       RESOURCE       22.011\n",
       "1         MGR_ID       19.893\n",
       "2  ROLE_DEPTNAME       15.637\n",
       "3     ROLE_TITLE       15.397\n",
       "4  ROLE_ROLLUP_2       12.557\n",
       "5    ROLE_FAMILY        7.792\n",
       "6  ROLE_ROLLUP_1        6.713"
      ]
     },
     "execution_count": 50,
     "metadata": {},
     "output_type": "execute_result"
    }
   ],
   "source": [
    "clf.get_feature_importance(prettified=True)"
   ]
  },
  {
   "cell_type": "code",
   "execution_count": 51,
   "id": "ffb85d66",
   "metadata": {},
   "outputs": [
    {
     "data": {
      "image/png": "[encoded data removed]",
      "text/plain": [
       "<Figure size 720x432 with 1 Axes>"
      ]
     },
     "metadata": {
      "needs_background": "light"
     },
     "output_type": "display_data"
    }
   ],
   "source": [
    "import matplotlib.pyplot as plt\n",
    "import numpy as np\n",
    "\n",
    "feature_importance = clf.get_feature_importance(prettified=True)\n",
    "\n",
    "# Extract feature names and importance values\n",
    "features = feature_importance['Feature Id']\n",
    "importance = feature_importance['Importances']\n",
    "\n",
    "# Sort features based on importance values\n",
    "sorted_indices = np.argsort(importance)\n",
    "sorted_features = features[sorted_indices]\n",
    "sorted_importance = importance[sorted_indices]\n",
    "\n",
    "# Create a horizontal bar plot\n",
    "plt.figure(figsize=(10, 6))\n",
    "plt.barh(sorted_features, sorted_importance)\n",
    "plt.xlabel('Importance')\n",
    "plt.ylabel('Feature')\n",
    "plt.title('Feature Importance')\n",
    "\n",
    "plt.show()"
   ]
  },
  {
   "cell_type": "markdown",
   "id": "028c8c73",
   "metadata": {},
   "source": [
    "## Hyperparameter tunning"
   ]
  },
  {
   "cell_type": "markdown",
   "id": "0cd3c7a3",
   "metadata": {},
   "source": [
    "### Simple grid search"
   ]
  },
  {
   "cell_type": "code",
   "execution_count": 52,
   "id": "9e2889f6",
   "metadata": {},
   "outputs": [
    {
     "name": "stdout",
     "output_type": "stream",
     "text": [
      "0:\tlearn: 0.6810327\ttest: 0.6811037\tbest: 0.6811037 (0)\ttotal: 69.2ms\tremaining: 6.85s\n",
      "50:\tlearn: 0.3434502\ttest: 0.3452252\tbest: 0.3452252 (50)\ttotal: 4.12s\tremaining: 3.96s\n",
      "99:\tlearn: 0.2490708\ttest: 0.2507729\tbest: 0.2507729 (99)\ttotal: 8.56s\tremaining: 0us\n",
      "\n",
      "bestTest = 0.2507729098\n",
      "bestIteration = 99\n",
      "\n",
      "0:\tloss: 0.2507729\tbest: 0.2507729 (0)\ttotal: 8.64s\tremaining: 3m 18s\n",
      "0:\tlearn: 0.5805328\ttest: 0.5812428\tbest: 0.5812428 (0)\ttotal: 71.8ms\tremaining: 7.1s\n",
      "50:\tlearn: 0.1770639\ttest: 0.1651905\tbest: 0.1651905 (50)\ttotal: 4.8s\tremaining: 4.61s\n",
      "99:\tlearn: 0.1730723\ttest: 0.1613972\tbest: 0.1613972 (99)\ttotal: 9.36s\tremaining: 0us\n",
      "\n",
      "bestTest = 0.1613972104\n",
      "bestIteration = 99\n",
      "\n",
      "0:\tlearn: 0.6808566\ttest: 0.6809287\tbest: 0.6809287 (0)\ttotal: 80.2ms\tremaining: 7.94s\n",
      "50:\tlearn: 0.3438555\ttest: 0.3457479\tbest: 0.3457479 (50)\ttotal: 4.46s\tremaining: 4.29s\n",
      "99:\tlearn: 0.2499693\ttest: 0.2515821\tbest: 0.2515821 (99)\ttotal: 8.88s\tremaining: 0us\n",
      "\n",
      "bestTest = 0.2515820899\n",
      "bestIteration = 99\n",
      "\n",
      "0:\tlearn: 0.5790223\ttest: 0.5797437\tbest: 0.5797437 (0)\ttotal: 78ms\tremaining: 7.72s\n",
      "50:\tlearn: 0.1773749\ttest: 0.1651990\tbest: 0.1651990 (50)\ttotal: 4.64s\tremaining: 4.46s\n",
      "99:\tlearn: 0.1734881\ttest: 0.1620534\tbest: 0.1620534 (99)\ttotal: 9.13s\tremaining: 0us\n",
      "\n",
      "bestTest = 0.1620533564\n",
      "bestIteration = 99\n",
      "\n",
      "0:\tlearn: 0.6810377\ttest: 0.6811077\tbest: 0.6811077 (0)\ttotal: 82.9ms\tremaining: 8.21s\n",
      "50:\tlearn: 0.3440648\ttest: 0.3459866\tbest: 0.3459866 (50)\ttotal: 4.53s\tremaining: 4.35s\n",
      "99:\tlearn: 0.2497180\ttest: 0.2512276\tbest: 0.2512276 (99)\ttotal: 9.06s\tremaining: 0us\n",
      "\n",
      "bestTest = 0.2512276224\n",
      "bestIteration = 99\n",
      "\n",
      "0:\tlearn: 0.5805760\ttest: 0.5812775\tbest: 0.5812775 (0)\ttotal: 78.6ms\tremaining: 7.78s\n",
      "50:\tlearn: 0.1774568\ttest: 0.1657730\tbest: 0.1657730 (50)\ttotal: 4.67s\tremaining: 4.49s\n",
      "99:\tlearn: 0.1738916\ttest: 0.1620546\tbest: 0.1620539 (98)\ttotal: 9.21s\tremaining: 0us\n",
      "\n",
      "bestTest = 0.1620539319\n",
      "bestIteration = 98\n",
      "\n",
      "0:\tlearn: 0.6808574\ttest: 0.6809287\tbest: 0.6809287 (0)\ttotal: 75.7ms\tremaining: 7.5s\n",
      "50:\tlearn: 0.3429149\ttest: 0.3442136\tbest: 0.3442136 (50)\ttotal: 4.27s\tremaining: 4.1s\n",
      "99:\tlearn: 0.2475455\ttest: 0.2481318\tbest: 0.2481318 (99)\ttotal: 8.66s\tremaining: 0us\n",
      "\n",
      "bestTest = 0.2481318102\n",
      "bestIteration = 99\n",
      "\n",
      "0:\tlearn: 0.5790303\ttest: 0.5797437\tbest: 0.5797437 (0)\ttotal: 82.8ms\tremaining: 8.2s\n",
      "50:\tlearn: 0.1769542\ttest: 0.1651920\tbest: 0.1651920 (50)\ttotal: 4.83s\tremaining: 4.64s\n",
      "99:\tlearn: 0.1734229\ttest: 0.1621738\tbest: 0.1621738 (99)\ttotal: 9.28s\tremaining: 0us\n",
      "\n",
      "bestTest = 0.1621737864\n",
      "bestIteration = 99\n",
      "\n",
      "0:\tlearn: 0.6810327\ttest: 0.6811037\tbest: 0.6811037 (0)\ttotal: 71.6ms\tremaining: 7.09s\n",
      "50:\tlearn: 0.3431017\ttest: 0.3448517\tbest: 0.3448517 (50)\ttotal: 4.23s\tremaining: 4.07s\n",
      "99:\tlearn: 0.2470701\ttest: 0.2482456\tbest: 0.2482456 (99)\ttotal: 8.59s\tremaining: 0us\n",
      "\n",
      "bestTest = 0.2482456253\n",
      "bestIteration = 99\n",
      "\n",
      "0:\tlearn: 0.5805328\ttest: 0.5812428\tbest: 0.5812428 (0)\ttotal: 74.6ms\tremaining: 7.39s\n",
      "50:\tlearn: 0.1716415\ttest: 0.1629705\tbest: 0.1629705 (50)\ttotal: 4.83s\tremaining: 4.64s\n",
      "99:\tlearn: 0.1649617\ttest: 0.1594026\tbest: 0.1594026 (99)\ttotal: 9.69s\tremaining: 0us\n",
      "\n",
      "bestTest = 0.1594025814\n",
      "bestIteration = 99\n",
      "\n",
      "0:\tlearn: 0.6808566\ttest: 0.6809287\tbest: 0.6809287 (0)\ttotal: 75.7ms\tremaining: 7.49s\n",
      "50:\tlearn: 0.3422802\ttest: 0.3433716\tbest: 0.3433716 (50)\ttotal: 4.26s\tremaining: 4.09s\n",
      "99:\tlearn: 0.2484255\ttest: 0.2496115\tbest: 0.2496115 (99)\ttotal: 8.6s\tremaining: 0us\n",
      "\n",
      "bestTest = 0.2496115346\n",
      "bestIteration = 99\n",
      "\n",
      "0:\tlearn: 0.5790223\ttest: 0.5797437\tbest: 0.5797437 (0)\ttotal: 79.7ms\tremaining: 7.89s\n",
      "50:\tlearn: 0.1731571\ttest: 0.1642947\tbest: 0.1642947 (50)\ttotal: 5.21s\tremaining: 5.01s\n",
      "99:\tlearn: 0.1669275\ttest: 0.1608478\tbest: 0.1607768 (96)\ttotal: 12.2s\tremaining: 0us\n",
      "\n",
      "bestTest = 0.1607768278\n",
      "bestIteration = 96\n",
      "\n",
      "0:\tlearn: 0.6810377\ttest: 0.6811077\tbest: 0.6811077 (0)\ttotal: 68.5ms\tremaining: 6.78s\n",
      "50:\tlearn: 0.3435066\ttest: 0.3455730\tbest: 0.3455730 (50)\ttotal: 3.93s\tremaining: 3.77s\n",
      "99:\tlearn: 0.2475796\ttest: 0.2489489\tbest: 0.2489489 (99)\ttotal: 8.19s\tremaining: 0us\n",
      "\n",
      "bestTest = 0.2489488838\n",
      "bestIteration = 99\n",
      "\n",
      "0:\tlearn: 0.5805760\ttest: 0.5812775\tbest: 0.5812775 (0)\ttotal: 72.8ms\tremaining: 7.21s\n",
      "50:\tlearn: 0.1733933\ttest: 0.1640660\tbest: 0.1640660 (50)\ttotal: 4.79s\tremaining: 4.6s\n",
      "99:\tlearn: 0.1667008\ttest: 0.1604592\tbest: 0.1603995 (96)\ttotal: 9.62s\tremaining: 0us\n",
      "\n",
      "bestTest = 0.1603995445\n",
      "bestIteration = 96\n",
      "\n",
      "0:\tlearn: 0.6808574\ttest: 0.6809287\tbest: 0.6809287 (0)\ttotal: 77.4ms\tremaining: 7.66s\n",
      "50:\tlearn: 0.3429416\ttest: 0.3446297\tbest: 0.3446297 (50)\ttotal: 4.37s\tremaining: 4.2s\n",
      "99:\tlearn: 0.2480584\ttest: 0.2492176\tbest: 0.2492176 (99)\ttotal: 8.88s\tremaining: 0us\n",
      "\n",
      "bestTest = 0.2492175806\n",
      "bestIteration = 99\n",
      "\n",
      "0:\tlearn: 0.5790303\ttest: 0.5797437\tbest: 0.5797437 (0)\ttotal: 74.7ms\tremaining: 7.4s\n",
      "50:\tlearn: 0.1741495\ttest: 0.1640663\tbest: 0.1640663 (50)\ttotal: 4.67s\tremaining: 4.49s\n",
      "99:\tlearn: 0.1686524\ttest: 0.1612880\tbest: 0.1612880 (99)\ttotal: 9.5s\tremaining: 0us\n",
      "\n",
      "bestTest = 0.1612880049\n",
      "bestIteration = 99\n",
      "\n",
      "0:\tlearn: 0.6810327\ttest: 0.6811037\tbest: 0.6811037 (0)\ttotal: 73.1ms\tremaining: 7.23s\n",
      "50:\tlearn: 0.3427657\ttest: 0.3443311\tbest: 0.3443311 (50)\ttotal: 3.52s\tremaining: 3.38s\n",
      "99:\tlearn: 0.2468893\ttest: 0.2483159\tbest: 0.2483159 (99)\ttotal: 9.37s\tremaining: 0us\n",
      "\n",
      "bestTest = 0.2483159157\n",
      "bestIteration = 99\n",
      "\n",
      "0:\tlearn: 0.5805328\ttest: 0.5812428\tbest: 0.5812428 (0)\ttotal: 69.9ms\tremaining: 6.92s\n",
      "50:\tlearn: 0.1528412\ttest: 0.1616617\tbest: 0.1616617 (50)\ttotal: 11.3s\tremaining: 10.8s\n",
      "99:\tlearn: 0.1285686\ttest: 0.1603046\tbest: 0.1602761 (80)\ttotal: 23s\tremaining: 0us\n",
      "\n",
      "bestTest = 0.1602761277\n",
      "bestIteration = 80\n",
      "\n",
      "0:\tlearn: 0.6808566\ttest: 0.6809287\tbest: 0.6809287 (0)\ttotal: 73.6ms\tremaining: 7.29s\n",
      "50:\tlearn: 0.3412417\ttest: 0.3421536\tbest: 0.3421536 (50)\ttotal: 4.61s\tremaining: 4.43s\n",
      "99:\tlearn: 0.2435978\ttest: 0.2441085\tbest: 0.2441085 (99)\ttotal: 11.2s\tremaining: 0us\n",
      "\n",
      "bestTest = 0.2441085178\n",
      "bestIteration = 99\n",
      "\n",
      "0:\tlearn: 0.5790223\ttest: 0.5797437\tbest: 0.5797437 (0)\ttotal: 74.7ms\tremaining: 7.39s\n",
      "50:\tlearn: 0.1548945\ttest: 0.1611979\tbest: 0.1611979 (50)\ttotal: 10.9s\tremaining: 10.5s\n",
      "99:\tlearn: 0.1385716\ttest: 0.1588957\tbest: 0.1587363 (98)\ttotal: 22.5s\tremaining: 0us\n",
      "\n",
      "bestTest = 0.1587363032\n",
      "bestIteration = 98\n",
      "\n",
      "0:\tlearn: 0.6810377\ttest: 0.6811077\tbest: 0.6811077 (0)\ttotal: 73.2ms\tremaining: 7.25s\n",
      "50:\tlearn: 0.3430052\ttest: 0.3446748\tbest: 0.3446748 (50)\ttotal: 3.9s\tremaining: 3.75s\n",
      "99:\tlearn: 0.2454669\ttest: 0.2463773\tbest: 0.2463773 (99)\ttotal: 11s\tremaining: 0us\n",
      "\n",
      "bestTest = 0.246377258\n",
      "bestIteration = 99\n",
      "\n",
      "0:\tlearn: 0.5805760\ttest: 0.5812775\tbest: 0.5812775 (0)\ttotal: 79.3ms\tremaining: 7.85s\n",
      "50:\tlearn: 0.1582352\ttest: 0.1616068\tbest: 0.1616068 (50)\ttotal: 11s\tremaining: 10.6s\n",
      "99:\tlearn: 0.1419040\ttest: 0.1583638\tbest: 0.1583638 (99)\ttotal: 23.7s\tremaining: 0us\n",
      "\n",
      "bestTest = 0.1583638131\n",
      "bestIteration = 99\n",
      "\n",
      "0:\tlearn: 0.6808574\ttest: 0.6809287\tbest: 0.6809287 (0)\ttotal: 71.6ms\tremaining: 7.08s\n",
      "50:\tlearn: 0.3420651\ttest: 0.3434927\tbest: 0.3434927 (50)\ttotal: 4.35s\tremaining: 4.18s\n",
      "99:\tlearn: 0.2471722\ttest: 0.2484324\tbest: 0.2484324 (99)\ttotal: 9.87s\tremaining: 0us\n",
      "\n",
      "bestTest = 0.2484323749\n",
      "bestIteration = 99\n",
      "\n",
      "0:\tlearn: 0.5790303\ttest: 0.5797437\tbest: 0.5797437 (0)\ttotal: 70.9ms\tremaining: 7.02s\n",
      "50:\tlearn: 0.1602431\ttest: 0.1622318\tbest: 0.1622318 (50)\ttotal: 10.3s\tremaining: 9.89s\n",
      "99:\tlearn: 0.1463895\ttest: 0.1598162\tbest: 0.1594770 (94)\ttotal: 21.7s\tremaining: 0us\n",
      "\n",
      "bestTest = 0.159477042\n",
      "bestIteration = 94\n",
      "\n",
      "23:\tloss: 0.1594770\tbest: 0.1583638 (21)\ttotal: 4m 40s\tremaining: 0us\n",
      "Estimating final quality...\n",
      "Training on fold [0/3]\n",
      "0:\tlearn: 0.5810406\ttest: 0.5810693\tbest: 0.5810693 (0)\ttotal: 67.3ms\tremaining: 6.66s\n",
      "50:\tlearn: 0.1607780\ttest: 0.1611006\tbest: 0.1611006 (50)\ttotal: 9.96s\tremaining: 9.57s\n",
      "99:\tlearn: 0.1480395\ttest: 0.1590208\tbest: 0.1590208 (99)\ttotal: 20.6s\tremaining: 0us\n",
      "\n",
      "bestTest = 0.159020812\n",
      "bestIteration = 99\n",
      "\n",
      "Training on fold [1/3]\n",
      "0:\tlearn: 0.5810601\ttest: 0.5810827\tbest: 0.5810827 (0)\ttotal: 61.4ms\tremaining: 6.08s\n",
      "50:\tlearn: 0.1579074\ttest: 0.1689593\tbest: 0.1689593 (50)\ttotal: 10.5s\tremaining: 10.1s\n",
      "99:\tlearn: 0.1426949\ttest: 0.1665069\tbest: 0.1664961 (88)\ttotal: 21.9s\tremaining: 0us\n",
      "\n",
      "bestTest = 0.1664960744\n",
      "bestIteration = 88\n",
      "\n",
      "Training on fold [2/3]\n",
      "0:\tlearn: 0.5811104\ttest: 0.5811218\tbest: 0.5811218 (0)\ttotal: 67.3ms\tremaining: 6.66s\n"
     ]
    },
    {
     "name": "stdout",
     "output_type": "stream",
     "text": [
      "50:\tlearn: 0.1606352\ttest: 0.1641511\tbest: 0.1641511 (50)\ttotal: 10.9s\tremaining: 10.5s\n",
      "99:\tlearn: 0.1438142\ttest: 0.1624688\tbest: 0.1623878 (98)\ttotal: 23s\tremaining: 0us\n",
      "\n",
      "bestTest = 0.1623878052\n",
      "bestIteration = 98\n",
      "\n"
     ]
    }
   ],
   "source": [
    "clf = CatBoostClassifier(iterations=100, verbose=50)\n",
    "\n",
    "grid = {\n",
    "    'learning_rate': [0.01, 0.1],\n",
    "    'depth': [4, 6, 10],\n",
    "    'l2_leaf_reg': [1, 3, 5, 7]\n",
    "}\n",
    "\n",
    "grid_search_results = clf.grid_search(grid,\n",
    "                                      train_pool,\n",
    "                                      shuffle=False,\n",
    "#                                       plot=True,\n",
    "                                      verbose=50)"
   ]
  },
  {
   "cell_type": "code",
   "execution_count": 53,
   "id": "bd686ac5",
   "metadata": {},
   "outputs": [
    {
     "data": {
      "text/plain": [
       "{'depth': 10, 'l2_leaf_reg': 5, 'learning_rate': 0.1}"
      ]
     },
     "execution_count": 53,
     "metadata": {},
     "output_type": "execute_result"
    }
   ],
   "source": [
    "grid_search_results['params']"
   ]
  },
  {
   "cell_type": "code",
   "execution_count": 54,
   "id": "c17b2863",
   "metadata": {},
   "outputs": [
    {
     "data": {
      "text/plain": [
       "dict_keys(['iterations', 'test-Logloss-mean', 'test-Logloss-std', 'train-Logloss-mean', 'train-Logloss-std'])"
      ]
     },
     "execution_count": 54,
     "metadata": {},
     "output_type": "execute_result"
    }
   ],
   "source": [
    "grid_search_results['cv_results'].keys()"
   ]
  },
  {
   "cell_type": "code",
   "execution_count": 55,
   "id": "a782544a",
   "metadata": {},
   "outputs": [
    {
     "data": {
      "text/plain": [
       "0.1626654962224192"
      ]
     },
     "execution_count": 55,
     "metadata": {},
     "output_type": "execute_result"
    }
   ],
   "source": [
    "grid_search_results['cv_results']['test-Logloss-mean'][-1]"
   ]
  },
  {
   "cell_type": "code",
   "execution_count": 56,
   "id": "4e2a8d39",
   "metadata": {},
   "outputs": [
    {
     "data": {
      "text/plain": [
       "array([[0.1693764 , 0.8306236 ],\n",
       "       [0.03329067, 0.96670933],\n",
       "       [0.01095847, 0.98904153]])"
      ]
     },
     "execution_count": 56,
     "metadata": {},
     "output_type": "execute_result"
    }
   ],
   "source": [
    "predicted = clf.predict_proba(test_pool)\n",
    "predicted[:3]"
   ]
  },
  {
   "cell_type": "markdown",
   "id": "b30865a3",
   "metadata": {},
   "source": [
    "### Searching over several grids"
   ]
  },
  {
   "cell_type": "code",
   "execution_count": 57,
   "id": "28daa4cf",
   "metadata": {
    "scrolled": true
   },
   "outputs": [
    {
     "name": "stdout",
     "output_type": "stream",
     "text": [
      "Grid #0\n",
      "0:\tlearn: 0.6563178\ttest: 0.6565509\tbest: 0.6565509 (0)\ttotal: 104ms\tremaining: 10.3s\n",
      "50:\tlearn: 0.2046034\ttest: 0.2013099\tbest: 0.2013099 (50)\ttotal: 5.07s\tremaining: 4.87s\n",
      "99:\tlearn: 0.1791653\ttest: 0.1706914\tbest: 0.1706914 (99)\ttotal: 10s\tremaining: 0us\n",
      "\n",
      "bestTest = 0.1706914045\n",
      "bestIteration = 99\n",
      "\n",
      "0:\tloss: 0.1706914\tbest: 0.1706914 (0)\ttotal: 10.1s\tremaining: 1m 21s\n",
      "0:\tlearn: 0.5774178\ttest: 0.5781613\tbest: 0.5781613 (0)\ttotal: 98ms\tremaining: 9.7s\n",
      "50:\tlearn: 0.1730631\ttest: 0.1629668\tbest: 0.1629668 (50)\ttotal: 5.02s\tremaining: 4.82s\n",
      "99:\tlearn: 0.1672458\ttest: 0.1605058\tbest: 0.1605058 (99)\ttotal: 9.93s\tremaining: 0us\n",
      "\n",
      "bestTest = 0.1605057575\n",
      "bestIteration = 99\n",
      "\n",
      "0:\tlearn: 0.4039658\ttest: 0.4059572\tbest: 0.4059572 (0)\ttotal: 93.6ms\tremaining: 9.26s\n",
      "50:\tlearn: 0.1639597\ttest: 0.1599368\tbest: 0.1599368 (50)\ttotal: 5.29s\tremaining: 5.09s\n",
      "99:\tlearn: 0.1531050\ttest: 0.1600545\tbest: 0.1592247 (84)\ttotal: 10.3s\tremaining: 0us\n",
      "\n",
      "bestTest = 0.1592247214\n",
      "bestIteration = 84\n",
      "\n",
      "0:\tlearn: 0.6568627\ttest: 0.6570789\tbest: 0.6570789 (0)\ttotal: 76.2ms\tremaining: 7.55s\n",
      "50:\tlearn: 0.2050789\ttest: 0.2018659\tbest: 0.2018659 (50)\ttotal: 4.84s\tremaining: 4.65s\n",
      "99:\tlearn: 0.1797276\ttest: 0.1709310\tbest: 0.1709310 (99)\ttotal: 9.86s\tremaining: 0us\n",
      "\n",
      "bestTest = 0.1709309866\n",
      "bestIteration = 99\n",
      "\n",
      "0:\tlearn: 0.5790223\ttest: 0.5797437\tbest: 0.5797437 (0)\ttotal: 79.3ms\tremaining: 7.86s\n",
      "50:\tlearn: 0.1730495\ttest: 0.1643804\tbest: 0.1643804 (50)\ttotal: 4.95s\tremaining: 4.75s\n",
      "99:\tlearn: 0.1664030\ttest: 0.1611732\tbest: 0.1610799 (98)\ttotal: 9.94s\tremaining: 0us\n",
      "\n",
      "bestTest = 0.1610798636\n",
      "bestIteration = 98\n",
      "\n",
      "0:\tlearn: 0.4071473\ttest: 0.4093146\tbest: 0.4093146 (0)\ttotal: 74.7ms\tremaining: 7.4s\n",
      "50:\tlearn: 0.1638345\ttest: 0.1608510\tbest: 0.1608230 (49)\ttotal: 5.21s\tremaining: 5s\n",
      "99:\tlearn: 0.1514524\ttest: 0.1608144\tbest: 0.1599777 (79)\ttotal: 10.2s\tremaining: 0us\n",
      "\n",
      "bestTest = 0.1599777197\n",
      "bestIteration = 79\n",
      "\n",
      "0:\tlearn: 0.6573903\ttest: 0.6576106\tbest: 0.6576106 (0)\ttotal: 82.1ms\tremaining: 8.13s\n",
      "50:\tlearn: 0.2017955\ttest: 0.1979954\tbest: 0.1979954 (50)\ttotal: 5.26s\tremaining: 5.05s\n",
      "99:\tlearn: 0.1786021\ttest: 0.1711357\tbest: 0.1711357 (99)\ttotal: 10.3s\tremaining: 0us\n",
      "\n",
      "bestTest = 0.171135657\n",
      "bestIteration = 99\n",
      "\n",
      "0:\tlearn: 0.5805804\ttest: 0.5813142\tbest: 0.5813142 (0)\ttotal: 75.6ms\tremaining: 7.49s\n",
      "50:\tlearn: 0.1756937\ttest: 0.1678997\tbest: 0.1678997 (50)\ttotal: 5.19s\tremaining: 4.99s\n",
      "99:\tlearn: 0.1661751\ttest: 0.1631207\tbest: 0.1631207 (99)\ttotal: 10.3s\tremaining: 0us\n",
      "\n",
      "bestTest = 0.1631206579\n",
      "bestIteration = 99\n",
      "\n",
      "0:\tlearn: 0.4102190\ttest: 0.4124172\tbest: 0.4124172 (0)\ttotal: 76.2ms\tremaining: 7.54s\n",
      "50:\tlearn: 0.1664412\ttest: 0.1697709\tbest: 0.1695083 (49)\ttotal: 5.3s\tremaining: 5.09s\n",
      "99:\tlearn: 0.1496027\ttest: 0.1643836\tbest: 0.1636559 (84)\ttotal: 10.2s\tremaining: 0us\n",
      "\n",
      "bestTest = 0.1636558729\n",
      "bestIteration = 84\n",
      "\n",
      "8:\tloss: 0.1636559\tbest: 0.1592247 (2)\ttotal: 1m 31s\tremaining: 0us\n",
      "Grid #1\n",
      "0:\tlearn: 0.6572463\ttest: 0.6574872\tbest: 0.6574872 (0)\ttotal: 68.7ms\tremaining: 6.8s\n",
      "50:\tlearn: 0.2051199\ttest: 0.2027458\tbest: 0.2027458 (50)\ttotal: 4.71s\tremaining: 4.52s\n",
      "99:\tlearn: 0.1807578\ttest: 0.1721778\tbest: 0.1721778 (99)\ttotal: 9.95s\tremaining: 0us\n",
      "\n",
      "bestTest = 0.1721777763\n",
      "bestIteration = 99\n",
      "\n",
      "0:\tloss: 0.1721778\tbest: 0.1721778 (0)\ttotal: 10s\tremaining: 1m 20s\n",
      "0:\tlearn: 0.5801585\ttest: 0.5809481\tbest: 0.5809481 (0)\ttotal: 72.8ms\tremaining: 7.2s\n",
      "50:\tlearn: 0.1739254\ttest: 0.1648795\tbest: 0.1648795 (50)\ttotal: 5.04s\tremaining: 4.84s\n",
      "99:\tlearn: 0.1676608\ttest: 0.1613438\tbest: 0.1612736 (97)\ttotal: 10.1s\tremaining: 0us\n",
      "\n",
      "bestTest = 0.1612735966\n",
      "bestIteration = 97\n",
      "\n",
      "0:\tlearn: 0.4093993\ttest: 0.4116614\tbest: 0.4116614 (0)\ttotal: 76.7ms\tremaining: 7.59s\n",
      "50:\tlearn: 0.1620973\ttest: 0.1646000\tbest: 0.1638808 (22)\ttotal: 5.3s\tremaining: 5.09s\n",
      "99:\tlearn: 0.1495101\ttest: 0.1637952\tbest: 0.1637296 (98)\ttotal: 10.4s\tremaining: 0us\n",
      "\n",
      "bestTest = 0.1637295682\n",
      "bestIteration = 98\n",
      "\n",
      "0:\tlearn: 0.6572463\ttest: 0.6574872\tbest: 0.6574872 (0)\ttotal: 71.4ms\tremaining: 7.07s\n",
      "50:\tlearn: 0.2080406\ttest: 0.2062312\tbest: 0.2062312 (50)\ttotal: 4.55s\tremaining: 4.37s\n",
      "99:\tlearn: 0.1807037\ttest: 0.1719579\tbest: 0.1719579 (99)\ttotal: 9.59s\tremaining: 0us\n",
      "\n",
      "bestTest = 0.1719579368\n",
      "bestIteration = 99\n",
      "\n",
      "0:\tlearn: 0.5801585\ttest: 0.5809481\tbest: 0.5809481 (0)\ttotal: 66ms\tremaining: 6.53s\n",
      "50:\tlearn: 0.1731578\ttest: 0.1640725\tbest: 0.1640725 (50)\ttotal: 4.97s\tremaining: 4.78s\n",
      "99:\tlearn: 0.1671513\ttest: 0.1607317\tbest: 0.1607317 (97)\ttotal: 9.89s\tremaining: 0us\n",
      "\n",
      "bestTest = 0.160731701\n",
      "bestIteration = 97\n",
      "\n",
      "0:\tlearn: 0.4093993\ttest: 0.4116614\tbest: 0.4116614 (0)\ttotal: 76.1ms\tremaining: 7.54s\n",
      "50:\tlearn: 0.1619888\ttest: 0.1628873\tbest: 0.1627558 (47)\ttotal: 5.17s\tremaining: 4.96s\n",
      "99:\tlearn: 0.1501735\ttest: 0.1625331\tbest: 0.1618074 (60)\ttotal: 10.2s\tremaining: 0us\n",
      "\n",
      "bestTest = 0.1618073605\n",
      "bestIteration = 60\n",
      "\n",
      "0:\tlearn: 0.6572463\ttest: 0.6574872\tbest: 0.6574872 (0)\ttotal: 72.1ms\tremaining: 7.14s\n",
      "50:\tlearn: 0.2049819\ttest: 0.2018991\tbest: 0.2018991 (50)\ttotal: 4.81s\tremaining: 4.62s\n",
      "99:\tlearn: 0.1801919\ttest: 0.1712591\tbest: 0.1712591 (99)\ttotal: 9.79s\tremaining: 0us\n",
      "\n",
      "bestTest = 0.1712590577\n",
      "bestIteration = 99\n",
      "\n",
      "0:\tlearn: 0.5801585\ttest: 0.5809481\tbest: 0.5809481 (0)\ttotal: 67.5ms\tremaining: 6.68s\n",
      "50:\tlearn: 0.1728674\ttest: 0.1643600\tbest: 0.1643600 (50)\ttotal: 5.07s\tremaining: 4.87s\n",
      "99:\tlearn: 0.1665470\ttest: 0.1610912\tbest: 0.1610912 (99)\ttotal: 10.1s\tremaining: 0us\n",
      "\n",
      "bestTest = 0.1610911653\n",
      "bestIteration = 99\n",
      "\n",
      "0:\tlearn: 0.4093993\ttest: 0.4116614\tbest: 0.4116614 (0)\ttotal: 68.5ms\tremaining: 6.78s\n",
      "50:\tlearn: 0.1638050\ttest: 0.1604139\tbest: 0.1604139 (50)\ttotal: 5.22s\tremaining: 5.01s\n",
      "99:\tlearn: 0.1522583\ttest: 0.1603486\tbest: 0.1592787 (83)\ttotal: 10.2s\tremaining: 0us\n",
      "\n",
      "bestTest = 0.1592787145\n",
      "bestIteration = 83\n",
      "\n",
      "8:\tloss: 0.1592787\tbest: 0.1592787 (8)\ttotal: 1m 30s\tremaining: 0us\n",
      "Estimating final quality...\n",
      "Training on fold [0/3]\n",
      "0:\tlearn: 0.4110863\ttest: 0.4119271\tbest: 0.4119271 (0)\ttotal: 78.5ms\tremaining: 7.78s\n",
      "50:\tlearn: 0.1661197\ttest: 0.1611201\tbest: 0.1611201 (50)\ttotal: 5.1s\tremaining: 4.9s\n",
      "99:\tlearn: 0.1529236\ttest: 0.1604437\tbest: 0.1598568 (80)\ttotal: 10.1s\tremaining: 0us\n",
      "\n",
      "bestTest = 0.1598568097\n",
      "bestIteration = 80\n",
      "\n",
      "Training on fold [1/3]\n",
      "0:\tlearn: 0.4083157\ttest: 0.4082769\tbest: 0.4082769 (0)\ttotal: 78.5ms\tremaining: 7.77s\n",
      "50:\tlearn: 0.1633514\ttest: 0.1705823\tbest: 0.1699601 (24)\ttotal: 5.12s\tremaining: 4.92s\n",
      "99:\tlearn: 0.1499787\ttest: 0.1700520\tbest: 0.1699601 (24)\ttotal: 10s\tremaining: 0us\n",
      "\n",
      "bestTest = 0.1699600553\n",
      "bestIteration = 24\n",
      "\n",
      "Training on fold [2/3]\n",
      "0:\tlearn: 0.4112289\ttest: 0.4111977\tbest: 0.4111977 (0)\ttotal: 60.1ms\tremaining: 5.95s\n",
      "50:\tlearn: 0.1635863\ttest: 0.1649370\tbest: 0.1645735 (36)\ttotal: 5.08s\tremaining: 4.88s\n",
      "99:\tlearn: 0.1515077\ttest: 0.1654811\tbest: 0.1645735 (36)\ttotal: 9.98s\tremaining: 0us\n",
      "\n",
      "bestTest = 0.1645734941\n",
      "bestIteration = 36\n",
      "\n"
     ]
    }
   ],
   "source": [
    "clf = CatBoostClassifier(iterations=100, verbose=50)\n",
    "\n",
    "grid_1 = {\n",
    "    'learning_rate': [0.03, 0.1, 0.3],\n",
    "    'bootstrap_type': ['Bayesian'],\n",
    "    'bagging_temperature': [0, 1, 10]\n",
    "}\n",
    "grid_2 = {\n",
    "    'learning_rate': [0.03, 0.1, 0.3],\n",
    "    'bootstrap_type': ['Bernoulli'],\n",
    "    'subsample': [0.66, 0.7, 0.8]\n",
    "}\n",
    "grid_search_results = clf.grid_search([grid_1, grid_2],\n",
    "                                      train_pool,\n",
    "                                      shuffle=False,\n",
    "#                                       plot=True,\n",
    "                                      verbose=50)"
   ]
  },
  {
   "cell_type": "code",
   "execution_count": 58,
   "id": "928bdfe5",
   "metadata": {},
   "outputs": [
    {
     "data": {
      "text/plain": [
       "{'subsample': 0.8, 'learning_rate': 0.3, 'bootstrap_type': 'Bernoulli'}"
      ]
     },
     "execution_count": 58,
     "metadata": {},
     "output_type": "execute_result"
    }
   ],
   "source": [
    "grid_search_results['params']"
   ]
  },
  {
   "cell_type": "markdown",
   "id": "1a1ae7a3",
   "metadata": {},
   "source": [
    "### RandomizedSearchCV"
   ]
  },
  {
   "cell_type": "code",
   "execution_count": 92,
   "id": "da608cb8",
   "metadata": {},
   "outputs": [
    {
     "name": "stdout",
     "output_type": "stream",
     "text": [
      "0:\tlearn: 0.5812371\ttotal: 113ms\tremaining: 33.9s\n",
      "50:\tlearn: 0.1690688\ttotal: 7.73s\tremaining: 37.7s\n",
      "100:\tlearn: 0.1574758\ttotal: 20s\tremaining: 39.4s\n",
      "150:\tlearn: 0.1492778\ttotal: 34.5s\tremaining: 34.1s\n",
      "200:\tlearn: 0.1423887\ttotal: 47.2s\tremaining: 23.2s\n",
      "250:\tlearn: 0.1351723\ttotal: 55.8s\tremaining: 10.9s\n",
      "299:\tlearn: 0.1283284\ttotal: 1m 4s\tremaining: 0us\n",
      "0:\tlearn: 0.5794341\ttotal: 127ms\tremaining: 37.8s\n",
      "50:\tlearn: 0.1568968\ttotal: 6.69s\tremaining: 32.7s\n",
      "100:\tlearn: 0.1482116\ttotal: 13.7s\tremaining: 27.1s\n",
      "150:\tlearn: 0.1419769\ttotal: 18.3s\tremaining: 18.1s\n",
      "200:\tlearn: 0.1345261\ttotal: 24.6s\tremaining: 12.1s\n",
      "250:\tlearn: 0.1275367\ttotal: 30.5s\tremaining: 5.96s\n",
      "299:\tlearn: 0.1210617\ttotal: 35.7s\tremaining: 0us\n",
      "0:\tlearn: 0.6854349\ttotal: 35.2ms\tremaining: 3.48s\n",
      "50:\tlearn: 0.4346320\ttotal: 2.12s\tremaining: 2.03s\n",
      "99:\tlearn: 0.3237677\ttotal: 4.45s\tremaining: 0us\n",
      "0:\tlearn: 0.6853037\ttotal: 42.4ms\tremaining: 4.19s\n",
      "50:\tlearn: 0.4303986\ttotal: 2.48s\tremaining: 2.38s\n",
      "99:\tlearn: 0.3175937\ttotal: 4.92s\tremaining: 0us\n",
      "0:\tlearn: 0.3095837\ttotal: 104ms\tremaining: 20.7s\n",
      "50:\tlearn: 0.1261743\ttotal: 7.39s\tremaining: 21.6s\n",
      "100:\tlearn: 0.0940927\ttotal: 15.7s\tremaining: 15.4s\n",
      "150:\tlearn: 0.0671682\ttotal: 23.6s\tremaining: 7.66s\n",
      "199:\tlearn: 0.0476990\ttotal: 31.4s\tremaining: 0us\n",
      "0:\tlearn: 0.3001474\ttotal: 117ms\tremaining: 23.3s\n",
      "50:\tlearn: 0.1216077\ttotal: 5.78s\tremaining: 16.9s\n",
      "100:\tlearn: 0.0871657\ttotal: 11.1s\tremaining: 10.9s\n",
      "150:\tlearn: 0.0591905\ttotal: 16.6s\tremaining: 5.4s\n",
      "199:\tlearn: 0.0394489\ttotal: 21.8s\tremaining: 0us\n",
      "0:\tlearn: 0.6854349\ttotal: 27.9ms\tremaining: 2.76s\n",
      "50:\tlearn: 0.4346318\ttotal: 2.47s\tremaining: 2.37s\n",
      "99:\tlearn: 0.3239032\ttotal: 5.03s\tremaining: 0us\n",
      "0:\tlearn: 0.6853037\ttotal: 32.9ms\tremaining: 3.26s\n",
      "50:\tlearn: 0.4304568\ttotal: 2.15s\tremaining: 2.06s\n",
      "99:\tlearn: 0.3177493\ttotal: 4.59s\tremaining: 0us\n",
      "0:\tlearn: 0.3095837\ttotal: 95.2ms\tremaining: 28.5s\n",
      "50:\tlearn: 0.1566089\ttotal: 6.65s\tremaining: 32.5s\n",
      "100:\tlearn: 0.1408502\ttotal: 13.6s\tremaining: 26.9s\n",
      "150:\tlearn: 0.1281056\ttotal: 22.3s\tremaining: 22s\n",
      "200:\tlearn: 0.1174092\ttotal: 29.4s\tremaining: 14.5s\n",
      "250:\tlearn: 0.1059918\ttotal: 36.2s\tremaining: 7.07s\n",
      "299:\tlearn: 0.0958719\ttotal: 43.1s\tremaining: 0us\n",
      "0:\tlearn: 0.3001474\ttotal: 122ms\tremaining: 36.4s\n",
      "50:\tlearn: 0.1471424\ttotal: 4.17s\tremaining: 20.3s\n",
      "100:\tlearn: 0.1300647\ttotal: 7.7s\tremaining: 15.2s\n",
      "150:\tlearn: 0.1174446\ttotal: 11.3s\tremaining: 11.2s\n",
      "200:\tlearn: 0.1059959\ttotal: 15s\tremaining: 7.4s\n",
      "250:\tlearn: 0.0932714\ttotal: 18.6s\tremaining: 3.63s\n",
      "299:\tlearn: 0.0832805\ttotal: 22s\tremaining: 0us\n",
      "0:\tlearn: 0.3097251\ttotal: 86.6ms\tremaining: 17.2s\n",
      "50:\tlearn: 0.1697431\ttotal: 6.75s\tremaining: 19.7s\n",
      "100:\tlearn: 0.1649793\ttotal: 13.4s\tremaining: 13.1s\n",
      "150:\tlearn: 0.1604650\ttotal: 20s\tremaining: 6.49s\n",
      "199:\tlearn: 0.1566867\ttotal: 26.8s\tremaining: 0us\n",
      "0:\tlearn: 0.3003175\ttotal: 92.4ms\tremaining: 18.4s\n",
      "50:\tlearn: 0.1629512\ttotal: 2.99s\tremaining: 8.75s\n",
      "100:\tlearn: 0.1552829\ttotal: 5.53s\tremaining: 5.42s\n",
      "150:\tlearn: 0.1512432\ttotal: 7.61s\tremaining: 2.47s\n",
      "199:\tlearn: 0.1473751\ttotal: 10.1s\tremaining: 0us\n",
      "0:\tlearn: 0.3097251\ttotal: 88.6ms\tremaining: 26.5s\n",
      "50:\tlearn: 0.1603709\ttotal: 6.48s\tremaining: 31.6s\n",
      "100:\tlearn: 0.1448923\ttotal: 12.9s\tremaining: 25.4s\n",
      "150:\tlearn: 0.1319920\ttotal: 19.5s\tremaining: 19.2s\n",
      "200:\tlearn: 0.1200293\ttotal: 26s\tremaining: 12.8s\n",
      "250:\tlearn: 0.1100589\ttotal: 32.5s\tremaining: 6.34s\n",
      "299:\tlearn: 0.0999459\ttotal: 38.7s\tremaining: 0us\n",
      "0:\tlearn: 0.3003175\ttotal: 87.7ms\tremaining: 26.2s\n",
      "50:\tlearn: 0.1496847\ttotal: 4.04s\tremaining: 19.7s\n",
      "100:\tlearn: 0.1349032\ttotal: 7.47s\tremaining: 14.7s\n",
      "150:\tlearn: 0.1227417\ttotal: 10.9s\tremaining: 10.7s\n",
      "200:\tlearn: 0.1118077\ttotal: 14.4s\tremaining: 7.09s\n",
      "250:\tlearn: 0.1019579\ttotal: 17.9s\tremaining: 3.5s\n",
      "299:\tlearn: 0.0923349\ttotal: 21.4s\tremaining: 0us\n",
      "0:\tlearn: 0.5812371\ttotal: 78.1ms\tremaining: 23.4s\n",
      "50:\tlearn: 0.1810029\ttotal: 6.62s\tremaining: 32.3s\n",
      "100:\tlearn: 0.1757617\ttotal: 13.2s\tremaining: 26s\n",
      "150:\tlearn: 0.1728756\ttotal: 19.9s\tremaining: 19.6s\n",
      "200:\tlearn: 0.1710172\ttotal: 26.5s\tremaining: 13s\n",
      "250:\tlearn: 0.1695032\ttotal: 33.3s\tremaining: 6.5s\n",
      "299:\tlearn: 0.1682027\ttotal: 39.8s\tremaining: 0us\n",
      "0:\tlearn: 0.5794341\ttotal: 91.1ms\tremaining: 27.2s\n",
      "50:\tlearn: 0.1717619\ttotal: 3.48s\tremaining: 17s\n",
      "100:\tlearn: 0.1668145\ttotal: 5.83s\tremaining: 11.5s\n",
      "150:\tlearn: 0.1643757\ttotal: 8.02s\tremaining: 7.91s\n",
      "200:\tlearn: 0.1618918\ttotal: 10.3s\tremaining: 5.09s\n",
      "250:\tlearn: 0.1602850\ttotal: 12.8s\tremaining: 2.49s\n",
      "299:\tlearn: 0.1592127\ttotal: 15.3s\tremaining: 0us\n",
      "0:\tlearn: 0.3097251\ttotal: 101ms\tremaining: 30.2s\n",
      "50:\tlearn: 0.1603709\ttotal: 6.63s\tremaining: 32.4s\n",
      "100:\tlearn: 0.1448923\ttotal: 13.1s\tremaining: 25.9s\n",
      "150:\tlearn: 0.1319920\ttotal: 19.9s\tremaining: 19.6s\n",
      "200:\tlearn: 0.1200293\ttotal: 26.4s\tremaining: 13s\n",
      "250:\tlearn: 0.1100589\ttotal: 33s\tremaining: 6.44s\n",
      "299:\tlearn: 0.0999459\ttotal: 39.2s\tremaining: 0us\n",
      "0:\tlearn: 0.3003175\ttotal: 84.7ms\tremaining: 25.3s\n",
      "50:\tlearn: 0.1496847\ttotal: 3.88s\tremaining: 18.9s\n",
      "100:\tlearn: 0.1349032\ttotal: 7.37s\tremaining: 14.5s\n",
      "150:\tlearn: 0.1227417\ttotal: 10.9s\tremaining: 10.8s\n",
      "200:\tlearn: 0.1118077\ttotal: 14.5s\tremaining: 7.13s\n",
      "250:\tlearn: 0.1019579\ttotal: 18s\tremaining: 3.52s\n",
      "299:\tlearn: 0.0923349\ttotal: 21.5s\tremaining: 0us\n",
      "0:\tlearn: 0.6812602\ttotal: 82.2ms\tremaining: 24.6s\n",
      "50:\tlearn: 0.3468121\ttotal: 5.2s\tremaining: 25.4s\n",
      "100:\tlearn: 0.2462955\ttotal: 10.9s\tremaining: 21.5s\n",
      "150:\tlearn: 0.2069199\ttotal: 17.1s\tremaining: 16.9s\n",
      "200:\tlearn: 0.1905541\ttotal: 23.2s\tremaining: 11.4s\n",
      "250:\tlearn: 0.1805579\ttotal: 29.7s\tremaining: 5.8s\n",
      "299:\tlearn: 0.1745748\ttotal: 36.1s\tremaining: 0us\n",
      "0:\tlearn: 0.6808909\ttotal: 111ms\tremaining: 33.2s\n",
      "50:\tlearn: 0.3388518\ttotal: 4.46s\tremaining: 21.8s\n",
      "100:\tlearn: 0.2393658\ttotal: 8.5s\tremaining: 16.7s\n",
      "150:\tlearn: 0.1976523\ttotal: 12.2s\tremaining: 12s\n",
      "200:\tlearn: 0.1810199\ttotal: 16.1s\tremaining: 7.93s\n",
      "250:\tlearn: 0.1719719\ttotal: 20.6s\tremaining: 4.02s\n",
      "299:\tlearn: 0.1657958\ttotal: 24.6s\tremaining: 0us\n",
      "0:\tlearn: 0.5804058\ttotal: 126ms\tremaining: 37.8s\n",
      "50:\tlearn: 0.1632740\ttotal: 7.08s\tremaining: 34.6s\n",
      "100:\tlearn: 0.1579837\ttotal: 14.1s\tremaining: 27.8s\n",
      "150:\tlearn: 0.1556577\ttotal: 21.5s\tremaining: 21.2s\n",
      "200:\tlearn: 0.1543058\ttotal: 29s\tremaining: 14.3s\n",
      "250:\tlearn: 0.1532039\ttotal: 36.6s\tremaining: 7.15s\n",
      "299:\tlearn: 0.1523784\ttotal: 44.1s\tremaining: 0us\n",
      "Best Parameters:  {'verbose': 50, 'random_seed': 42, 'loss_function': 'CrossEntropy', 'learning_rate': 0.1, 'l2_leaf_reg': 5, 'iterations': 300, 'depth': 3, 'cat_features': ['RESOURCE', 'MGR_ID', 'ROLE_ROLLUP_1', 'ROLE_ROLLUP_2', 'ROLE_DEPTNAME', 'ROLE_TITLE', 'ROLE_FAMILY']}\n",
      "Best Score:  0.9491897298971763\n"
     ]
    }
   ],
   "source": [
    "# Define the CatBoost classifier\n",
    "clf = CatBoostClassifier()\n",
    "\n",
    "# Define the hyperparameter grid for RandomizedSearchCV\n",
    "clf_params = {\n",
    "    'iterations': [100, 200, 300],\n",
    "    'learning_rate': [0.01, 0.1, 0.5],\n",
    "    'depth': [3, 5, 7],\n",
    "    'l2_leaf_reg': [1, 3, 5],\n",
    "    'loss_function': ['Logloss', 'CrossEntropy'],\n",
    "    'random_seed': [RANDOM_STATE],\n",
    "    'cat_features': [cat_features],\n",
    "    'verbose': [50]\n",
    "}\n",
    "\n",
    "# Define the KFold cross-validation\n",
    "CV = KFold(n_splits=N_FOLDS, shuffle=True, random_state=RANDOM_STATE)\n",
    "\n",
    "# Perform RandomizedSearchCV with CatBoost and KFold\n",
    "random_search = RandomizedSearchCV(estimator=clf,\n",
    "                                   param_distributions=clf_params,\n",
    "                                   cv=CV,\n",
    "                                   n_iter=10,\n",
    "                                   random_state=RANDOM_STATE)\n",
    "random_search.fit(X_train, y_train)\n",
    "\n",
    "# Print the best parameters and best score\n",
    "print(\"Best Parameters: \", random_search.best_params_)\n",
    "print()\n",
    "print(\"Best Score: \", random_search.best_score_)"
   ]
  },
  {
   "cell_type": "code",
   "execution_count": 94,
   "id": "4b00ab06",
   "metadata": {},
   "outputs": [
    {
     "name": "stdout",
     "output_type": "stream",
     "text": [
      "Best Parameters:  {'verbose': 50, 'random_seed': 42, 'loss_function': 'CrossEntropy', 'learning_rate': 0.1, 'l2_leaf_reg': 5, 'iterations': 300, 'depth': 3, 'cat_features': ['RESOURCE', 'MGR_ID', 'ROLE_ROLLUP_1', 'ROLE_ROLLUP_2', 'ROLE_DEPTNAME', 'ROLE_TITLE', 'ROLE_FAMILY']}\n",
      "\n",
      "Best Score:  0.9491897298971763\n"
     ]
    }
   ],
   "source": [
    "# Print the best parameters and best score\n",
    "print(\"Best Parameters: \", random_search.best_params_)\n",
    "print()\n",
    "print(\"Best Score: \", random_search.best_score_)"
   ]
  },
  {
   "cell_type": "code",
   "execution_count": 113,
   "id": "7a86e7af",
   "metadata": {},
   "outputs": [
    {
     "name": "stdout",
     "output_type": "stream",
     "text": [
      "0:\tlearn: 0.5796821\ttest: 0.5797565\tbest: 0.5797565 (0)\ttotal: 66.4ms\tremaining: 19.9s\n",
      "50:\tlearn: 0.1693799\ttest: 0.1466223\tbest: 0.1466223 (50)\ttotal: 3.97s\tremaining: 19.4s\n",
      "100:\tlearn: 0.1644594\ttest: 0.1434629\tbest: 0.1434629 (100)\ttotal: 7.9s\tremaining: 15.6s\n",
      "150:\tlearn: 0.1622003\ttest: 0.1422601\tbest: 0.1422601 (150)\ttotal: 11.8s\tremaining: 11.7s\n",
      "200:\tlearn: 0.1603039\ttest: 0.1401785\tbest: 0.1401785 (200)\ttotal: 15.6s\tremaining: 7.68s\n",
      "250:\tlearn: 0.1591184\ttest: 0.1396396\tbest: 0.1396396 (250)\ttotal: 19.5s\tremaining: 3.81s\n",
      "299:\tlearn: 0.1579415\ttest: 0.1391747\tbest: 0.1391446 (296)\ttotal: 23.3s\tremaining: 0us\n",
      "\n",
      "bestTest = 0.1391446078\n",
      "bestIteration = 296\n",
      "\n",
      "Shrink model to first 297 iterations.\n"
     ]
    },
    {
     "data": {
      "text/plain": [
       "<catboost.core.CatBoostClassifier at 0x2972b304e80>"
      ]
     },
     "execution_count": 113,
     "metadata": {},
     "output_type": "execute_result"
    }
   ],
   "source": [
    "clf = CatBoostClassifier(**random_search.best_params_)\n",
    "clf.fit(\n",
    "    X_train,\n",
    "    y_train,\n",
    "    eval_set=(X_val, y_val),\n",
    ")"
   ]
  },
  {
   "cell_type": "code",
   "execution_count": 114,
   "id": "211bca98",
   "metadata": {},
   "outputs": [
    {
     "data": {
      "text/html": [
       "<div>\n",
       "<style scoped>\n",
       "    .dataframe tbody tr th:only-of-type {\n",
       "        vertical-align: middle;\n",
       "    }\n",
       "\n",
       "    .dataframe tbody tr th {\n",
       "        vertical-align: top;\n",
       "    }\n",
       "\n",
       "    .dataframe thead th {\n",
       "        text-align: right;\n",
       "    }\n",
       "</style>\n",
       "<table border=\"1\" class=\"dataframe\">\n",
       "  <thead>\n",
       "    <tr style=\"text-align: right;\">\n",
       "      <th></th>\n",
       "      <th>Feature Id</th>\n",
       "      <th>Importances</th>\n",
       "    </tr>\n",
       "  </thead>\n",
       "  <tbody>\n",
       "    <tr>\n",
       "      <th>0</th>\n",
       "      <td>MGR_ID</td>\n",
       "      <td>24.908</td>\n",
       "    </tr>\n",
       "    <tr>\n",
       "      <th>1</th>\n",
       "      <td>RESOURCE</td>\n",
       "      <td>24.388</td>\n",
       "    </tr>\n",
       "    <tr>\n",
       "      <th>2</th>\n",
       "      <td>ROLE_TITLE</td>\n",
       "      <td>19.234</td>\n",
       "    </tr>\n",
       "    <tr>\n",
       "      <th>3</th>\n",
       "      <td>ROLE_DEPTNAME</td>\n",
       "      <td>12.517</td>\n",
       "    </tr>\n",
       "    <tr>\n",
       "      <th>4</th>\n",
       "      <td>ROLE_ROLLUP_2</td>\n",
       "      <td>9.563</td>\n",
       "    </tr>\n",
       "    <tr>\n",
       "      <th>5</th>\n",
       "      <td>ROLE_FAMILY</td>\n",
       "      <td>5.035</td>\n",
       "    </tr>\n",
       "    <tr>\n",
       "      <th>6</th>\n",
       "      <td>ROLE_ROLLUP_1</td>\n",
       "      <td>4.355</td>\n",
       "    </tr>\n",
       "  </tbody>\n",
       "</table>\n",
       "</div>"
      ],
      "text/plain": [
       "      Feature Id  Importances\n",
       "0         MGR_ID       24.908\n",
       "1       RESOURCE       24.388\n",
       "2     ROLE_TITLE       19.234\n",
       "3  ROLE_DEPTNAME       12.517\n",
       "4  ROLE_ROLLUP_2        9.563\n",
       "5    ROLE_FAMILY        5.035\n",
       "6  ROLE_ROLLUP_1        4.355"
      ]
     },
     "execution_count": 114,
     "metadata": {},
     "output_type": "execute_result"
    }
   ],
   "source": [
    "clf.get_feature_importance(prettified=True)"
   ]
  },
  {
   "cell_type": "code",
   "execution_count": 115,
   "id": "4d934d90",
   "metadata": {},
   "outputs": [
    {
     "data": {
      "image/png": "[encoded data removed]",
      "text/plain": [
       "<Figure size 1152x576 with 1 Axes>"
      ]
     },
     "metadata": {
      "needs_background": "light"
     },
     "output_type": "display_data"
    }
   ],
   "source": [
    "curve = get_roc_curve(clf, eval_pool)\n",
    "(fpr, tpr, thresholds) = curve\n",
    "roc_auc = sklearn.metrics.auc(fpr, tpr)\n",
    "\n",
    "plt.figure(figsize=(16, 8))\n",
    "lw = 2\n",
    "\n",
    "plt.plot(fpr,\n",
    "         tpr,\n",
    "         color='darkorange',\n",
    "         lw=lw,\n",
    "         label='ROC curve (area = %0.2f)' % roc_auc,\n",
    "         alpha=0.5)\n",
    "\n",
    "plt.plot([0, 1], [0, 1], color='navy', lw=lw, linestyle='--', alpha=0.5)\n",
    "\n",
    "plt.xlim([0.0, 1.0])\n",
    "plt.ylim([0.0, 1.05])\n",
    "plt.xticks(fontsize=16)\n",
    "plt.yticks(fontsize=16)\n",
    "plt.grid(True)\n",
    "plt.xlabel('False Positive Rate', fontsize=16)\n",
    "plt.ylabel('True Positive Rate', fontsize=16)\n",
    "plt.title('ROC-AUC Curve', fontsize=20)\n",
    "plt.legend(loc=\"lower right\", fontsize=16)\n",
    "plt.show()"
   ]
  }
 ],
 "metadata": {
  "kernelspec": {
   "display_name": "Python 3 (ipykernel)",
   "language": "python",
   "name": "python3"
  },
  "language_info": {
   "codemirror_mode": {
    "name": "ipython",
    "version": 3
   },
   "file_extension": ".py",
   "mimetype": "text/x-python",
   "name": "python",
   "nbconvert_exporter": "python",
   "pygments_lexer": "ipython3",
   "version": "3.9.7"
  },
  "toc": {
   "base_numbering": 1,
   "nav_menu": {},
   "number_sections": true,
   "sideBar": true,
   "skip_h1_title": false,
   "title_cell": "Table of Contents",
   "title_sidebar": "Contents",
   "toc_cell": false,
   "toc_position": {
    "height": "calc(100% - 180px)",
    "left": "10px",
    "top": "150px",
    "width": "372.438px"
   },
   "toc_section_display": true,
   "toc_window_display": true
  }
 },
 "nbformat": 4,
 "nbformat_minor": 5
}
